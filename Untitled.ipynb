{
 "cells": [
  {
   "cell_type": "markdown",
   "id": "3a190e15-983f-4346-970d-02ad314137a3",
   "metadata": {},
   "source": [
    "## Tutorial \n",
    "# Jupyter"
   ]
  },
  {
   "cell_type": "code",
   "execution_count": 1,
   "id": "17b2040a-6b25-48f3-990e-9a4a91accd8b",
   "metadata": {},
   "outputs": [
    {
     "name": "stdout",
     "output_type": "stream",
     "text": [
      "hello world\n"
     ]
    }
   ],
   "source": [
    "print(\"hello world\")"
   ]
  },
  {
   "cell_type": "code",
   "execution_count": 2,
   "id": "848d9ea9",
   "metadata": {},
   "outputs": [
    {
     "name": "stdout",
     "output_type": "stream",
     "text": [
      "Hello jupyter\n"
     ]
    }
   ],
   "source": [
    "print(\"Hello jupyter\")"
   ]
  },
  {
   "cell_type": "code",
   "execution_count": 3,
   "id": "3318390b-88b9-4035-9924-65b0a9249c23",
   "metadata": {},
   "outputs": [],
   "source": [
    "a = 5"
   ]
  },
  {
   "cell_type": "code",
   "execution_count": 4,
   "id": "93fc2b2e-0516-43ca-8fa2-81ec68822da0",
   "metadata": {},
   "outputs": [],
   "source": [
    "a = 4"
   ]
  },
  {
   "cell_type": "code",
   "execution_count": 5,
   "id": "3742d3b0-e657-4be0-a936-6fd7a88e71d9",
   "metadata": {},
   "outputs": [
    {
     "name": "stdout",
     "output_type": "stream",
     "text": [
      "4\n"
     ]
    }
   ],
   "source": [
    "print(a)"
   ]
  },
  {
   "cell_type": "code",
   "execution_count": 6,
   "id": "3c5a1630-ee69-4b14-b08e-78b017fda1c6",
   "metadata": {},
   "outputs": [],
   "source": [
    "d = {\"a\": \"hello\", \"b\": \"Mello\"}"
   ]
  },
  {
   "cell_type": "code",
   "execution_count": 7,
   "id": "edca754d-24c8-40f7-b272-80f2d6e458d3",
   "metadata": {},
   "outputs": [
    {
     "name": "stdout",
     "output_type": "stream",
     "text": [
      "hello\n"
     ]
    }
   ],
   "source": [
    "print(d[\"a\"])"
   ]
  },
  {
   "cell_type": "code",
   "execution_count": 8,
   "id": "0236b01c-d78d-491c-b2fb-6f91e4784f92",
   "metadata": {},
   "outputs": [
    {
     "name": "stdout",
     "output_type": "stream",
     "text": [
      "5.0\n"
     ]
    }
   ],
   "source": [
    "print(10/2)"
   ]
  },
  {
   "cell_type": "code",
   "execution_count": 9,
   "id": "2602487e-718c-4052-a175-c44c8606ebe0",
   "metadata": {},
   "outputs": [
    {
     "name": "stdout",
     "output_type": "stream",
     "text": [
      "5\n"
     ]
    }
   ],
   "source": [
    "print(10//2)"
   ]
  },
  {
   "cell_type": "code",
   "execution_count": 10,
   "id": "d8f302ee-838e-4fcb-bff9-121b96f74b98",
   "metadata": {},
   "outputs": [
    {
     "name": "stdout",
     "output_type": "stream",
     "text": [
      "3\n"
     ]
    }
   ],
   "source": [
    "print(10//3)"
   ]
  },
  {
   "cell_type": "code",
   "execution_count": 11,
   "id": "c206b966-2bd1-49ba-bd69-805a1dd7fa34",
   "metadata": {},
   "outputs": [
    {
     "name": "stdout",
     "output_type": "stream",
     "text": [
      "0\n"
     ]
    }
   ],
   "source": [
    "print(10%2)"
   ]
  },
  {
   "cell_type": "code",
   "execution_count": 12,
   "id": "c9360dcb-dc69-447b-a4e1-b55d8c820848",
   "metadata": {},
   "outputs": [
    {
     "name": "stdout",
     "output_type": "stream",
     "text": [
      "1\n"
     ]
    }
   ],
   "source": [
    "print(10%3)"
   ]
  },
  {
   "cell_type": "code",
   "execution_count": 13,
   "id": "6a67c2bb-787e-40a8-a9cc-a97823636a49",
   "metadata": {},
   "outputs": [],
   "source": [
    "a = 10//3"
   ]
  },
  {
   "cell_type": "code",
   "execution_count": 14,
   "id": "1c158cb9-2f79-4351-909e-6362a51b1dfc",
   "metadata": {},
   "outputs": [
    {
     "name": "stdout",
     "output_type": "stream",
     "text": [
      "<class 'int'>\n"
     ]
    }
   ],
   "source": [
    "print(type(a))"
   ]
  },
  {
   "cell_type": "code",
   "execution_count": 15,
   "id": "a971ac76-ac26-479f-b1a7-218b2daecbd1",
   "metadata": {},
   "outputs": [
    {
     "name": "stdout",
     "output_type": "stream",
     "text": [
      "1\n"
     ]
    }
   ],
   "source": [
    "print(1 or 0)"
   ]
  },
  {
   "cell_type": "code",
   "execution_count": 16,
   "id": "02cfa605-7393-4c89-9cc1-b6a1ae3a03c4",
   "metadata": {},
   "outputs": [
    {
     "name": "stdout",
     "output_type": "stream",
     "text": [
      "0\n"
     ]
    }
   ],
   "source": [
    "print(1 & 0)"
   ]
  },
  {
   "cell_type": "code",
   "execution_count": 17,
   "id": "23c6af69-d0e0-4213-879c-54548796cc7a",
   "metadata": {},
   "outputs": [
    {
     "name": "stdin",
     "output_type": "stream",
     "text": [
      "Enter you input:  55\n"
     ]
    }
   ],
   "source": [
    "a = input(\"Enter you input: \")"
   ]
  },
  {
   "cell_type": "code",
   "execution_count": 18,
   "id": "cbe17ed5-f8d5-4e39-b512-fee2c6f5bc1f",
   "metadata": {},
   "outputs": [
    {
     "name": "stdout",
     "output_type": "stream",
     "text": [
      "55\n"
     ]
    }
   ],
   "source": [
    "print(a)"
   ]
  },
  {
   "cell_type": "code",
   "execution_count": 19,
   "id": "84719890-16a3-4015-9031-a9094f2fa37c",
   "metadata": {},
   "outputs": [
    {
     "name": "stdout",
     "output_type": "stream",
     "text": [
      "<class 'str'>\n"
     ]
    }
   ],
   "source": [
    "print(type(a))"
   ]
  },
  {
   "cell_type": "code",
   "execution_count": 20,
   "id": "69f689f3-2052-418f-954c-b51594a7e662",
   "metadata": {},
   "outputs": [
    {
     "name": "stdin",
     "output_type": "stream",
     "text": [
      "Enter value 5\n"
     ]
    }
   ],
   "source": [
    "b = input(\"Enter value\")"
   ]
  },
  {
   "cell_type": "code",
   "execution_count": 21,
   "id": "297b72ad-e2da-4f06-bb3c-e3c821ac7251",
   "metadata": {},
   "outputs": [
    {
     "name": "stdout",
     "output_type": "stream",
     "text": [
      "<class 'str'>\n"
     ]
    }
   ],
   "source": [
    "print(type(b))"
   ]
  },
  {
   "cell_type": "code",
   "execution_count": 22,
   "id": "a8f139e2-5952-4f82-bb4d-190cf0df7c8f",
   "metadata": {},
   "outputs": [
    {
     "name": "stdin",
     "output_type": "stream",
     "text": [
      "Enter value 55\n"
     ]
    }
   ],
   "source": [
    "c = int(input(\"Enter value\"))"
   ]
  },
  {
   "cell_type": "code",
   "execution_count": 23,
   "id": "96b22dea-48e8-4605-aa65-1a4b77b8d352",
   "metadata": {},
   "outputs": [
    {
     "name": "stdout",
     "output_type": "stream",
     "text": [
      "<class 'int'>\n"
     ]
    }
   ],
   "source": [
    "print(type(c))"
   ]
  },
  {
   "cell_type": "code",
   "execution_count": 24,
   "id": "f18c464d-1471-44fa-a18f-b818ecd9451f",
   "metadata": {},
   "outputs": [
    {
     "name": "stdout",
     "output_type": "stream",
     "text": [
      "hello\n"
     ]
    }
   ],
   "source": [
    "print(\"hello\")"
   ]
  },
  {
   "cell_type": "code",
   "execution_count": 25,
   "id": "3d76e29f-717b-46f7-b684-6961df9bb0dc",
   "metadata": {},
   "outputs": [],
   "source": [
    "li = [1, 2, 3, 4]"
   ]
  },
  {
   "cell_type": "code",
   "execution_count": 26,
   "id": "ad04bd80-abbd-49ff-b379-f7962b9ece89",
   "metadata": {},
   "outputs": [],
   "source": [
    "lst = []\n",
    "for i in li:\n",
    "    lst.append(i*2)"
   ]
  },
  {
   "cell_type": "code",
   "execution_count": 27,
   "id": "4872b097-52f4-407a-af16-ee18d77d890b",
   "metadata": {},
   "outputs": [
    {
     "name": "stdout",
     "output_type": "stream",
     "text": [
      "[2, 4, 6, 8]\n"
     ]
    }
   ],
   "source": [
    "print(lst)"
   ]
  },
  {
   "cell_type": "code",
   "execution_count": 38,
   "id": "5865bb71-8bd9-4574-a217-940c00129177",
   "metadata": {},
   "outputs": [
    {
     "name": "stdin",
     "output_type": "stream",
     "text": [
      "Number:  5\n"
     ]
    }
   ],
   "source": [
    "n = int(input(\"Number: \"))"
   ]
  },
  {
   "cell_type": "code",
   "execution_count": 39,
   "id": "bc541381-4fd3-471b-a55f-e94361438f62",
   "metadata": {},
   "outputs": [
    {
     "name": "stdout",
     "output_type": "stream",
     "text": [
      "Prime\n"
     ]
    }
   ],
   "source": [
    "for i in range(2, n):\n",
    "    if(n%i == 0):\n",
    "        print(\"Number is not prime\")\n",
    "        break\n",
    "else:\n",
    "    print(\"Prime\")"
   ]
  },
  {
   "cell_type": "code",
   "execution_count": 40,
   "id": "656d6938-773c-4d03-8629-f70fda83c996",
   "metadata": {},
   "outputs": [
    {
     "name": "stdout",
     "output_type": "stream",
     "text": [
      "120\n"
     ]
    }
   ],
   "source": [
    "n = 5\n",
    "fac = 1\n",
    "for i in range (n, 1, -1):\n",
    "    fac = fac*i\n",
    "\n",
    "print(fac)"
   ]
  },
  {
   "cell_type": "code",
   "execution_count": 41,
   "id": "f810a871-879f-40c4-a736-06889434014c",
   "metadata": {},
   "outputs": [
    {
     "name": "stdout",
     "output_type": "stream",
     "text": [
      "3\n"
     ]
    }
   ],
   "source": [
    "def sum(a, b):\n",
    "    print(a+b)\n",
    "\n",
    "sum(1, 2)"
   ]
  },
  {
   "cell_type": "code",
   "execution_count": 42,
   "id": "361b69cd-87e6-4501-89fc-84683eb5cf2c",
   "metadata": {},
   "outputs": [
    {
     "data": {
      "text/plain": [
       "-1"
      ]
     },
     "execution_count": 42,
     "metadata": {},
     "output_type": "execute_result"
    }
   ],
   "source": [
    "def sub(a, b):\n",
    "    return a-b\n",
    "\n",
    "sub(3, 4)"
   ]
  },
  {
   "cell_type": "code",
   "execution_count": 43,
   "id": "dd6f43af-2c37-4f6c-b783-7e0161e22ed7",
   "metadata": {},
   "outputs": [
    {
     "name": "stdout",
     "output_type": "stream",
     "text": [
      "4\n",
      "5\n"
     ]
    }
   ],
   "source": [
    "print(4)\n",
    "print(5)"
   ]
  },
  {
   "cell_type": "code",
   "execution_count": 44,
   "id": "41e310c6-7f60-42a1-8992-1bf478d9ba84",
   "metadata": {},
   "outputs": [
    {
     "name": "stdout",
     "output_type": "stream",
     "text": [
      "0\n",
      "1\n",
      "2\n",
      "3\n",
      "4\n"
     ]
    }
   ],
   "source": [
    "for i in range(5):\n",
    "    print(i)"
   ]
  },
  {
   "cell_type": "code",
   "execution_count": 48,
   "id": "a35ed99d-5b17-4194-909f-1f5f1b661667",
   "metadata": {},
   "outputs": [
    {
     "name": "stdout",
     "output_type": "stream",
     "text": [
      "0 1 2 3 4 "
     ]
    }
   ],
   "source": [
    "for i in range(5):\n",
    "    print(i, end=\" \")"
   ]
  },
  {
   "cell_type": "code",
   "execution_count": 50,
   "id": "e4f1e183-f2b1-43fa-a3ad-fc845783e05b",
   "metadata": {},
   "outputs": [
    {
     "data": {
      "text/plain": [
       "120"
      ]
     },
     "execution_count": 50,
     "metadata": {},
     "output_type": "execute_result"
    }
   ],
   "source": [
    "def fac(n):\n",
    "    if(n==1 or n==0):\n",
    "        return 1\n",
    "    else:\n",
    "        return n*fac(n-1)\n",
    "\n",
    "fac(5)"
   ]
  },
  {
   "cell_type": "code",
   "execution_count": 51,
   "id": "262b9dbe-3ef3-484b-8c23-34215f969773",
   "metadata": {},
   "outputs": [
    {
     "data": {
      "text/plain": [
       "15"
      ]
     },
     "execution_count": 51,
     "metadata": {},
     "output_type": "execute_result"
    }
   ],
   "source": [
    "def sum_of_n(n):\n",
    "    if(n==1 or n==0):\n",
    "        return 1\n",
    "    else:\n",
    "        return n+sum_of_n(n-1)\n",
    "\n",
    "sum_of_n(5)"
   ]
  },
  {
   "cell_type": "code",
   "execution_count": 52,
   "id": "98e29c3a-07c9-494e-9f6c-1385c73d436f",
   "metadata": {},
   "outputs": [
    {
     "name": "stdout",
     "output_type": "stream",
     "text": [
      "***\n",
      "**\n",
      "*\n"
     ]
    }
   ],
   "source": [
    "def pat(n):\n",
    "    if(n==0):\n",
    "        return\n",
    "    print(\"*\"*n)\n",
    "    pat(n-1)\n",
    "\n",
    "pat(3)"
   ]
  },
  {
   "cell_type": "code",
   "execution_count": 53,
   "id": "6826c7c7-c4dd-41c8-b658-6154e23c7cc2",
   "metadata": {},
   "outputs": [
    {
     "name": "stdout",
     "output_type": "stream",
     "text": [
      "****\n",
      "***\n",
      "**\n",
      "*\n"
     ]
    }
   ],
   "source": [
    "pat(4)"
   ]
  },
  {
   "cell_type": "code",
   "execution_count": 54,
   "id": "bc056120-c02e-40d2-870f-4fe4cabb8299",
   "metadata": {},
   "outputs": [
    {
     "name": "stdout",
     "output_type": "stream",
     "text": [
      "hello world\n"
     ]
    }
   ],
   "source": [
    "print(\"{} world\".format(\"hello\"))"
   ]
  },
  {
   "cell_type": "code",
   "execution_count": 3,
   "id": "59aab7cf-4b47-45ac-af84-78969e90118f",
   "metadata": {},
   "outputs": [
    {
     "name": "stdout",
     "output_type": "stream",
     "text": [
      "{'one': 6, 'two': 15, 'three': 24, 'four': 33}\n",
      "one\n"
     ]
    }
   ],
   "source": [
    "dict = {\"one\": [1, 2, 3], \"two\": [4, 5, 6], \"three\": [7, 8, 9], \"four\": [10, 11, 12]}\n",
    "\n",
    "dict2 = {key: sum(value) for key, value in dict.items()}\n",
    "\n",
    "print(dict2)\n",
    "\n",
    "cheap = min(dict2, key=dict2.get)\n",
    "print(cheap)"
   ]
  },
  {
   "cell_type": "code",
   "execution_count": 24,
   "id": "67931e76-6315-4229-87eb-751033ec898c",
   "metadata": {},
   "outputs": [
    {
     "name": "stdout",
     "output_type": "stream",
     "text": [
      "1150\n"
     ]
    }
   ],
   "source": [
    "import math\n",
    "days = 35\n",
    "flight = [200, 250, 270, 450]\n",
    "hotel = [20, 30, 15, 10]\n",
    "car = [200, 120, 80, 70]\n",
    "j = {\"paris\": 0, \"london\": 1, \"dubai\": 2, \"mumbai\": 3}\n",
    "i = j.get(\"mumbai\")\n",
    "# i = 1\n",
    "answer = (flight[i]) + (hotel[i]*days) + (car[i] * math.ceil(days/7))\n",
    "print(answer)"
   ]
  }
 ],
 "metadata": {
  "kernelspec": {
   "display_name": "Python 3 (ipykernel)",
   "language": "python",
   "name": "python3"
  },
  "language_info": {
   "codemirror_mode": {
    "name": "ipython",
    "version": 3
   },
   "file_extension": ".py",
   "mimetype": "text/x-python",
   "name": "python",
   "nbconvert_exporter": "python",
   "pygments_lexer": "ipython3",
   "version": "3.12.7"
  }
 },
 "nbformat": 4,
 "nbformat_minor": 5
}
