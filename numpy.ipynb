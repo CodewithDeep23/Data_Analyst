{
 "cells": [
  {
   "cell_type": "markdown",
   "id": "e9f029e0-46ce-4f8e-9879-1bb0fc006444",
   "metadata": {},
   "source": [
    "## Numpy\n",
    "- It is one of the most important foundational\n",
    "packages for numerical computing & data\n",
    "analysis in Python. Most computational\n",
    "packages providing scientific functionality use\n",
    "NumPy’s array objects as the lingua franca for\n",
    "data exchange."
   ]
  },
  {
   "cell_type": "markdown",
   "id": "edce9c0b-fd8a-4bb4-9807-798916201f2a",
   "metadata": {},
   "source": [
    "Let's say we want to use climate data like the temperature, rainfall and humidity in a region to determine if the region is well suited for growing apples. A really simple approach for doing this would be to formulate the relationship between the annual yield of apples (tons per hectare) and the climatic conditions like the average temperature (in degrees Fahrenheit), rainfall (in millimeters) & average relative humidity (in percentage) as a linear equation.\n",
    "\n",
    "$$\n",
    "\\text{yield\\_of\\_apples} = w_1 \\cdot \\text{temperature} + w_2 \\cdot \\text{rainfall} + w_3 \\cdot \\text{humidity}\n",
    "$$\n",
    "\n",
    "\n",
    "- We're expressing the yield of apples as a weighted sum of the temperature, rainfall and humidity. Obviously, this is an approximation, since the actual relation may not necessarily be linear. But a simple linear model like this often works well in practice.\n",
    "- Based on some statistical analysis of historical data, we might be able to come up with reasonable values for the weights `w1`, `w2` and `w3`. Here's an example set of values:  "
   ]
  },
  {
   "cell_type": "code",
   "execution_count": 1,
   "id": "f3ebcf55-5d94-4916-a771-f23d03491f31",
   "metadata": {},
   "outputs": [],
   "source": [
    "w1, w2, w3 = 0.3, 0.2, 0.5"
   ]
  },
  {
   "cell_type": "markdown",
   "id": "63c57735-bd18-4d11-90e0-5a04d7ef92bb",
   "metadata": {},
   "source": [
    "Given some climate data for a region, we can now predict what the yield of apples in the region might look like. Here's some sample data:\n",
    "\n",
    "| Region | Temp.(F) | Rainfall (mm) | Humidity (%) |\n",
    "|---|---|---|---|\n",
    "| Kanto | 73 | 67 | 43 |\n",
    "| Johto | 91 | 88 | 64 |\n",
    "| Hoenn | 87 | 134 | 58 |\n",
    "| Sinnoh | 102 | 43 | 37 |\n",
    "| Unova | 69 | 96 | 70 |\n",
    "\n",
    "To begin, we can define some variables to record the climate data for a region."
   ]
  },
  {
   "cell_type": "code",
   "execution_count": 2,
   "id": "5bac3237-e28c-4635-8a26-ddc573b1a8c9",
   "metadata": {},
   "outputs": [],
   "source": [
    "Kanto = [73, 67, 43]\n",
    "Johto = [91, 88, 64]\n",
    "Hoenn = [87, 134, 58]\n",
    "Sinnoh = [102, 43, 37]\n",
    "Unova = [69, 96, 70]"
   ]
  },
  {
   "cell_type": "code",
   "execution_count": 3,
   "id": "e4f48fbe-badf-46fe-b9e1-e818b3df534c",
   "metadata": {},
   "outputs": [],
   "source": [
    "weights = [w1, w2, w3]"
   ]
  },
  {
   "cell_type": "markdown",
   "id": "cd67809a-9171-45b9-a7e8-3560cc54876b",
   "metadata": {},
   "source": [
    "zip built-in function:\n",
    "\n",
    "```python\n",
    "list_one = [23, 24, 25, 26]\n",
    "list_two = [\"D\", \"E\", \"E\", \"P\"]\n",
    "for x, y in zip(list_one, list_two):\n",
    "    print(x, y, end=\" \")          # 23 D 24 E 25 E 26 P \n",
    "```"
   ]
  },
  {
   "cell_type": "code",
   "execution_count": 4,
   "id": "8356c85c-0bc8-42eb-a822-6b88ecf5efd9",
   "metadata": {},
   "outputs": [],
   "source": [
    "# list_one = [23, 24, 25, 26]\n",
    "# list_two = [\"D\", \"E\", \"E\", \"P\"]\n",
    "# for x, y in zip(list_one, list_two):\n",
    "#     print(x, y, end=\" \")"
   ]
  },
  {
   "cell_type": "markdown",
   "id": "ed71916e-39c4-4dbb-8bcb-8ac836ef87a4",
   "metadata": {},
   "source": [
    "### Now we can write a crop_yield functino to calculate yield of apples."
   ]
  },
  {
   "cell_type": "code",
   "execution_count": 5,
   "id": "349d5f98-f9b5-4500-b2c2-67684d2be1d6",
   "metadata": {
    "jupyter": {
     "source_hidden": true
    }
   },
   "outputs": [
    {
     "name": "stdout",
     "output_type": "stream",
     "text": [
      "73 0.3\n",
      "67 0.2\n",
      "43 0.5\n"
     ]
    }
   ],
   "source": [
    "for x,  y in zip(Kanto, weights):\n",
    "    print(x, y)"
   ]
  },
  {
   "cell_type": "code",
   "execution_count": 6,
   "id": "49f4437a-848f-4ef1-90ae-f383a69c0b12",
   "metadata": {},
   "outputs": [],
   "source": [
    "def crop_yield(region, weights):\n",
    "    result = 0\n",
    "    for x, y in zip(region, weights):\n",
    "        result += x*y\n",
    "    return result"
   ]
  },
  {
   "cell_type": "code",
   "execution_count": 7,
   "id": "329fa666-97bd-418e-888e-9dcba9d3b94c",
   "metadata": {},
   "outputs": [
    {
     "data": {
      "text/plain": [
       "56.8"
      ]
     },
     "execution_count": 7,
     "metadata": {},
     "output_type": "execute_result"
    }
   ],
   "source": [
    "crop_yield(Kanto, weights)"
   ]
  },
  {
   "cell_type": "code",
   "execution_count": 8,
   "id": "d457db8f-f45a-4c66-95a0-2e1e77493241",
   "metadata": {},
   "outputs": [
    {
     "data": {
      "text/plain": [
       "76.9"
      ]
     },
     "execution_count": 8,
     "metadata": {},
     "output_type": "execute_result"
    }
   ],
   "source": [
    "crop_yield(Johto, weights)"
   ]
  },
  {
   "cell_type": "code",
   "execution_count": 9,
   "id": "575b02fb-c35d-4ced-bfd6-e210c917ad92",
   "metadata": {},
   "outputs": [
    {
     "data": {
      "text/plain": [
       "74.9"
      ]
     },
     "execution_count": 9,
     "metadata": {},
     "output_type": "execute_result"
    }
   ],
   "source": [
    "crop_yield(Unova, weights)"
   ]
  },
  {
   "cell_type": "markdown",
   "id": "b46382f9-17b4-4f38-b580-408d17b42f87",
   "metadata": {},
   "source": [
    "### The calculation performed by crop_yield function is also called a dot product of two vectors.  \n",
    "The Numpy library provide a built-in function to perform dot product of two vectors. However the list must first be converted to numpy arrays before we can perform the operation.  \n",
    "- First: install the Numpy\n",
    "```\n",
    "!pip install numpy\n",
    "```\n",
    "- Second: import numpy as np"
   ]
  },
  {
   "cell_type": "code",
   "execution_count": 10,
   "id": "4c0cdb0d-2b25-4fff-9735-0ed1538b5c24",
   "metadata": {},
   "outputs": [
    {
     "name": "stdout",
     "output_type": "stream",
     "text": [
      "Requirement already satisfied: numpy in c:\\users\\deepa\\onedrive\\documents\\new folder\\danalysis\\venv\\lib\\site-packages (2.2.3)\n"
     ]
    }
   ],
   "source": [
    "!pip install numpy"
   ]
  },
  {
   "cell_type": "code",
   "execution_count": 11,
   "id": "7b4b23d1-22db-472b-8d64-e4d87e78a6de",
   "metadata": {
    "collapsed": true,
    "jupyter": {
     "outputs_hidden": true
    }
   },
   "outputs": [
    {
     "name": "stdout",
     "output_type": "stream",
     "text": [
      "Name: numpyNote: you may need to restart the kernel to use updated packages.\n",
      "\n",
      "Version: 2.2.3\n",
      "Summary: Fundamental package for array computing in Python\n",
      "Home-page: https://numpy.org\n",
      "Author: Travis E. Oliphant et al.\n",
      "Author-email: \n",
      "License: Copyright (c) 2005-2024, NumPy Developers.\n",
      " All rights reserved.\n",
      "\n",
      " Redistribution and use in source and binary forms, with or without\n",
      " modification, are permitted provided that the following conditions are\n",
      " met:\n",
      "\n",
      "     * Redistributions of source code must retain the above copyright\n",
      "        notice, this list of conditions and the following disclaimer.\n",
      "\n",
      "     * Redistributions in binary form must reproduce the above\n",
      "        copyright notice, this list of conditions and the following\n",
      "        disclaimer in the documentation and/or other materials provided\n",
      "        with the distribution.\n",
      "\n",
      "     * Neither the name of the NumPy Developers nor the names of any\n",
      "        contributors may be used to endorse or promote products derived\n",
      "        from this software without specific prior written permission.\n",
      "\n",
      " THIS SOFTWARE IS PROVIDED BY THE COPYRIGHT HOLDERS AND CONTRIBUTORS\n",
      " \"AS IS\" AND ANY EXPRESS OR IMPLIED WARRANTIES, INCLUDING, BUT NOT\n",
      " LIMITED TO, THE IMPLIED WARRANTIES OF MERCHANTABILITY AND FITNESS FOR\n",
      " A PARTICULAR PURPOSE ARE DISCLAIMED. IN NO EVENT SHALL THE COPYRIGHT\n",
      " OWNER OR CONTRIBUTORS BE LIABLE FOR ANY DIRECT, INDIRECT, INCIDENTAL,\n",
      " SPECIAL, EXEMPLARY, OR CONSEQUENTIAL DAMAGES (INCLUDING, BUT NOT\n",
      " LIMITED TO, PROCUREMENT OF SUBSTITUTE GOODS OR SERVICES; LOSS OF USE,\n",
      " DATA, OR PROFITS; OR BUSINESS INTERRUPTION) HOWEVER CAUSED AND ON ANY\n",
      " THEORY OF LIABILITY, WHETHER IN CONTRACT, STRICT LIABILITY, OR TORT\n",
      " (INCLUDING NEGLIGENCE OR OTHERWISE) ARISING IN ANY WAY OUT OF THE USE\n",
      " OF THIS SOFTWARE, EVEN IF ADVISED OF THE POSSIBILITY OF SUCH DAMAGE.\n",
      "\n",
      " ----\n",
      "\n",
      " The NumPy repository and source distributions bundle several libraries that are\n",
      " compatibly licensed.  We list these here.\n",
      "\n",
      " Name: lapack-lite\n",
      " Files: numpy/linalg/lapack_lite/*\n",
      " License: BSD-3-Clause\n",
      "   For details, see numpy/linalg/lapack_lite/LICENSE.txt\n",
      "\n",
      " Name: dragon4\n",
      " Files: numpy/_core/src/multiarray/dragon4.c\n",
      " License: MIT\n",
      "   For license text, see numpy/_core/src/multiarray/dragon4.c\n",
      "\n",
      " Name: libdivide\n",
      " Files: numpy/_core/include/numpy/libdivide/*\n",
      " License: Zlib\n",
      "   For license text, see numpy/_core/include/numpy/libdivide/LICENSE.txt\n",
      "\n",
      "\n",
      " Note that the following files are vendored in the repository and sdist but not\n",
      " installed in built numpy packages:\n",
      "\n",
      " Name: Meson\n",
      " Files: vendored-meson/meson/*\n",
      " License: Apache 2.0\n",
      "   For license text, see vendored-meson/meson/COPYING\n",
      "\n",
      " Name: spin\n",
      " Files: .spin/cmds.py\n",
      " License: BSD-3\n",
      "   For license text, see .spin/LICENSE\n",
      "\n",
      " Name: tempita\n",
      " Files: numpy/_build_utils/tempita/*\n",
      " License: MIT\n",
      "   For details, see numpy/_build_utils/tempita/LICENCE.txt\n",
      "\n",
      " ----\n",
      "\n",
      " This binary distribution of NumPy also bundles the following software:\n",
      "\n",
      "\n",
      " Name: OpenBLAS\n",
      " Files: numpy.libs\\libscipy_openblas*.dll\n",
      " Description: bundled as a dynamically linked library\n",
      " Availability: https://github.com/OpenMathLib/OpenBLAS/\n",
      " License: BSD-3-Clause\n",
      "   Copyright (c) 2011-2014, The OpenBLAS Project\n",
      "   All rights reserved.\n",
      "\n",
      "   Redistribution and use in source and binary forms, with or without\n",
      "   modification, are permitted provided that the following conditions are\n",
      "   met:\n",
      "\n",
      "      1. Redistributions of source code must retain the above copyright\n",
      "         notice, this list of conditions and the following disclaimer.\n",
      "\n",
      "      2. Redistributions in binary form must reproduce the above copyright\n",
      "         notice, this list of conditions and the following disclaimer in\n",
      "         the documentation and/or other materials provided with the\n",
      "         distribution.\n",
      "      3. Neither the name of the OpenBLAS project nor the names of\n",
      "         its contributors may be used to endorse or promote products\n",
      "         derived from this software without specific prior written\n",
      "         permission.\n",
      "\n",
      "   THIS SOFTWARE IS PROVIDED BY THE COPYRIGHT HOLDERS AND CONTRIBUTORS \"AS IS\"\n",
      "   AND ANY EXPRESS OR IMPLIED WARRANTIES, INCLUDING, BUT NOT LIMITED TO, THE\n",
      "   IMPLIED WARRANTIES OF MERCHANTABILITY AND FITNESS FOR A PARTICULAR PURPOSE\n",
      "   ARE DISCLAIMED. IN NO EVENT SHALL THE COPYRIGHT OWNER OR CONTRIBUTORS BE\n",
      "   LIABLE FOR ANY DIRECT, INDIRECT, INCIDENTAL, SPECIAL, EXEMPLARY, OR CONSEQUENTIAL\n",
      "   DAMAGES (INCLUDING, BUT NOT LIMITED TO, PROCUREMENT OF SUBSTITUTE GOODS OR\n",
      "   SERVICES; LOSS OF USE, DATA, OR PROFITS; OR BUSINESS INTERRUPTION) HOWEVER\n",
      "   CAUSED AND ON ANY THEORY OF LIABILITY, WHETHER IN CONTRACT, STRICT LIABILITY,\n",
      "   OR TORT (INCLUDING NEGLIGENCE OR OTHERWISE) ARISING IN ANY WAY OUT OF THE\n",
      "   USE OF THIS SOFTWARE, EVEN IF ADVISED OF THE POSSIBILITY OF SUCH DAMAGE.\n",
      "\n",
      "\n",
      " Name: LAPACK\n",
      " Files: numpy.libs\\libscipy_openblas*.dll\n",
      " Description: bundled in OpenBLAS\n",
      " Availability: https://github.com/OpenMathLib/OpenBLAS/\n",
      " License: BSD-3-Clause-Attribution\n",
      "   Copyright (c) 1992-2013 The University of Tennessee and The University\n",
      "                           of Tennessee Research Foundation.  All rights\n",
      "                           reserved.\n",
      "   Copyright (c) 2000-2013 The University of California Berkeley. All\n",
      "                           rights reserved.\n",
      "   Copyright (c) 2006-2013 The University of Colorado Denver.  All rights\n",
      "                           reserved.\n",
      "\n",
      "   $COPYRIGHT$\n",
      "\n",
      "   Additional copyrights may follow\n",
      "\n",
      "   $HEADER$\n",
      "\n",
      "   Redistribution and use in source and binary forms, with or without\n",
      "   modification, are permitted provided that the following conditions are\n",
      "   met:\n",
      "\n",
      "   - Redistributions of source code must retain the above copyright\n",
      "     notice, this list of conditions and the following disclaimer.\n",
      "\n",
      "   - Redistributions in binary form must reproduce the above copyright\n",
      "     notice, this list of conditions and the following disclaimer listed\n",
      "     in this license in the documentation and/or other materials\n",
      "     provided with the distribution.\n",
      "\n",
      "   - Neither the name of the copyright holders nor the names of its\n",
      "     contributors may be used to endorse or promote products derived from\n",
      "     this software without specific prior written permission.\n",
      "\n",
      "   The copyright holders provide no reassurances that the source code\n",
      "   provided does not infringe any patent, copyright, or any other\n",
      "   intellectual property rights of third parties.  The copyright holders\n",
      "   disclaim any liability to any recipient for claims brought against\n",
      "   recipient by any third party for infringement of that parties\n",
      "   intellectual property rights.\n",
      "\n",
      "   THIS SOFTWARE IS PROVIDED BY THE COPYRIGHT HOLDERS AND CONTRIBUTORS\n",
      "   \"AS IS\" AND ANY EXPRESS OR IMPLIED WARRANTIES, INCLUDING, BUT NOT\n",
      "   LIMITED TO, THE IMPLIED WARRANTIES OF MERCHANTABILITY AND FITNESS FOR\n",
      "   A PARTICULAR PURPOSE ARE DISCLAIMED. IN NO EVENT SHALL THE COPYRIGHT\n",
      "   OWNER OR CONTRIBUTORS BE LIABLE FOR ANY DIRECT, INDIRECT, INCIDENTAL,\n",
      "   SPECIAL, EXEMPLARY, OR CONSEQUENTIAL DAMAGES (INCLUDING, BUT NOT\n",
      "   LIMITED TO, PROCUREMENT OF SUBSTITUTE GOODS OR SERVICES; LOSS OF USE,\n",
      "   DATA, OR PROFITS; OR BUSINESS INTERRUPTION) HOWEVER CAUSED AND ON ANY\n",
      "   THEORY OF LIABILITY, WHETHER IN CONTRACT, STRICT LIABILITY, OR TORT\n",
      "   (INCLUDING NEGLIGENCE OR OTHERWISE) ARISING IN ANY WAY OUT OF THE USE\n",
      "   OF THIS SOFTWARE, EVEN IF ADVISED OF THE POSSIBILITY OF SUCH DAMAGE.\n",
      "\n",
      "\n",
      " Name: GCC runtime library\n",
      " Files: numpy.libs\\libscipy_openblas*.dll\n",
      " Description: statically linked to files compiled with gcc\n",
      " Availability: https://gcc.gnu.org/git/?p=gcc.git;a=tree;f=libgfortran\n",
      " License: GPL-3.0-with-GCC-exception\n",
      "   Copyright (C) 2002-2017 Free Software Foundation, Inc.\n",
      "\n",
      "   Libgfortran is free software; you can redistribute it and/or modify\n",
      "   it under the terms of the GNU General Public License as published by\n",
      "   the Free Software Foundation; either version 3, or (at your option)\n",
      "   any later version.\n",
      "\n",
      "   Libgfortran is distributed in the hope that it will be useful,\n",
      "   but WITHOUT ANY WARRANTY; without even the implied warranty of\n",
      "   MERCHANTABILITY or FITNESS FOR A PARTICULAR PURPOSE.  See the\n",
      "   GNU General Public License for more details.\n",
      "\n",
      "   Under Section 7 of GPL version 3, you are granted additional\n",
      "   permissions described in the GCC Runtime Library Exception, version\n",
      "   3.1, as published by the Free Software Foundation.\n",
      "\n",
      "   You should have received a copy of the GNU General Public License and\n",
      "   a copy of the GCC Runtime Library Exception along with this program;\n",
      "   see the files COPYING3 and COPYING.RUNTIME respectively.  If not, see\n",
      "   <http://www.gnu.org/licenses/>.\n",
      "\n",
      " ----\n",
      "\n",
      " Full text of license texts referred to above follows (that they are\n",
      " listed below does not necessarily imply the conditions apply to the\n",
      " present binary release):\n",
      "\n",
      " ----\n",
      "\n",
      " GCC RUNTIME LIBRARY EXCEPTION\n",
      "\n",
      " Version 3.1, 31 March 2009\n",
      "\n",
      " Copyright (C) 2009 Free Software Foundation, Inc. <http://fsf.org/>\n",
      "\n",
      " Everyone is permitted to copy and distribute verbatim copies of this\n",
      " license document, but changing it is not allowed.\n",
      "\n",
      " This GCC Runtime Library Exception (\"Exception\") is an additional\n",
      " permission under section 7 of the GNU General Public License, version\n",
      " 3 (\"GPLv3\"). It applies to a given file (the \"Runtime Library\") that\n",
      " bears a notice placed by the copyright holder of the file stating that\n",
      " the file is governed by GPLv3 along with this Exception.\n",
      "\n",
      " When you use GCC to compile a program, GCC may combine portions of\n",
      " certain GCC header files and runtime libraries with the compiled\n",
      " program. The purpose of this Exception is to allow compilation of\n",
      " non-GPL (including proprietary) programs to use, in this way, the\n",
      " header files and runtime libraries covered by this Exception.\n",
      "\n",
      " 0. Definitions.\n",
      "\n",
      " A file is an \"Independent Module\" if it either requires the Runtime\n",
      " Library for execution after a Compilation Process, or makes use of an\n",
      " interface provided by the Runtime Library, but is not otherwise based\n",
      " on the Runtime Library.\n",
      "\n",
      " \"GCC\" means a version of the GNU Compiler Collection, with or without\n",
      " modifications, governed by version 3 (or a specified later version) of\n",
      " the GNU General Public License (GPL) with the option of using any\n",
      " subsequent versions published by the FSF.\n",
      "\n",
      " \"GPL-compatible Software\" is software whose conditions of propagation,\n",
      " modification and use would permit combination with GCC in accord with\n",
      " the license of GCC.\n",
      "\n",
      " \"Target Code\" refers to output from any compiler for a real or virtual\n",
      " target processor architecture, in executable form or suitable for\n",
      " input to an assembler, loader, linker and/or execution\n",
      " phase. Notwithstanding that, Target Code does not include data in any\n",
      " format that is used as a compiler intermediate representation, or used\n",
      " for producing a compiler intermediate representation.\n",
      "\n",
      " The \"Compilation Process\" transforms code entirely represented in\n",
      " non-intermediate languages designed for human-written code, and/or in\n",
      " Java Virtual Machine byte code, into Target Code. Thus, for example,\n",
      " use of source code generators and preprocessors need not be considered\n",
      " part of the Compilation Process, since the Compilation Process can be\n",
      " understood as starting with the output of the generators or\n",
      " preprocessors.\n",
      "\n",
      " A Compilation Process is \"Eligible\" if it is done using GCC, alone or\n",
      " with other GPL-compatible software, or if it is done without using any\n",
      " work based on GCC. For example, using non-GPL-compatible Software to\n",
      " optimize any GCC intermediate representations would not qualify as an\n",
      " Eligible Compilation Process.\n",
      "\n",
      " 1. Grant of Additional Permission.\n",
      "\n",
      " You have permission to propagate a work of Target Code formed by\n",
      " combining the Runtime Library with Independent Modules, even if such\n",
      " propagation would otherwise violate the terms of GPLv3, provided that\n",
      " all Target Code was generated by Eligible Compilation Processes. You\n",
      " may then convey such a combination under terms of your choice,\n",
      " consistent with the licensing of the Independent Modules.\n",
      "\n",
      " 2. No Weakening of GCC Copyleft.\n",
      "\n",
      " The availability of this Exception does not imply any general\n",
      " presumption that third-party software is unaffected by the copyleft\n",
      " requirements of the license of GCC.\n",
      "\n",
      " ----\n",
      "\n",
      "                     GNU GENERAL PUBLIC LICENSE\n",
      "                        Version 3, 29 June 2007\n",
      "\n",
      "  Copyright (C) 2007 Free Software Foundation, Inc. <http://fsf.org/>\n",
      "  Everyone is permitted to copy and distribute verbatim copies\n",
      "  of this license document, but changing it is not allowed.\n",
      "\n",
      "                             Preamble\n",
      "\n",
      "   The GNU General Public License is a free, copyleft license for\n",
      " software and other kinds of works.\n",
      "\n",
      "   The licenses for most software and other practical works are designed\n",
      " to take away your freedom to share and change the works.  By contrast,\n",
      " the GNU General Public License is intended to guarantee your freedom to\n",
      " share and change all versions of a program--to make sure it remains free\n",
      " software for all its users.  We, the Free Software Foundation, use the\n",
      " GNU General Public License for most of our software; it applies also to\n",
      " any other work released this way by its authors.  You can apply it to\n",
      " your programs, too.\n",
      "\n",
      "   When we speak of free software, we are referring to freedom, not\n",
      " price.  Our General Public Licenses are designed to make sure that you\n",
      " have the freedom to distribute copies of free software (and charge for\n",
      " them if you wish), that you receive source code or can get it if you\n",
      " want it, that you can change the software or use pieces of it in new\n",
      " free programs, and that you know you can do these things.\n",
      "\n",
      "   To protect your rights, we need to prevent others from denying you\n",
      " these rights or asking you to surrender the rights.  Therefore, you have\n",
      " certain responsibilities if you distribute copies of the software, or if\n",
      " you modify it: responsibilities to respect the freedom of others.\n",
      "\n",
      "   For example, if you distribute copies of such a program, whether\n",
      " gratis or for a fee, you must pass on to the recipients the same\n",
      " freedoms that you received.  You must make sure that they, too, receive\n",
      " or can get the source code.  And you must show them these terms so they\n",
      " know their rights.\n",
      "\n",
      "   Developers that use the GNU GPL protect your rights with two steps:\n",
      " (1) assert copyright on the software, and (2) offer you this License\n",
      " giving you legal permission to copy, distribute and/or modify it.\n",
      "\n",
      "   For the developers' and authors' protection, the GPL clearly explains\n",
      " that there is no warranty for this free software.  For both users' and\n",
      " authors' sake, the GPL requires that modified versions be marked as\n",
      " changed, so that their problems will not be attributed erroneously to\n",
      " authors of previous versions.\n",
      "\n",
      "   Some devices are designed to deny users access to install or run\n",
      " modified versions of the software inside them, although the manufacturer\n",
      " can do so.  This is fundamentally incompatible with the aim of\n",
      " protecting users' freedom to change the software.  The systematic\n",
      " pattern of such abuse occurs in the area of products for individuals to\n",
      " use, which is precisely where it is most unacceptable.  Therefore, we\n",
      " have designed this version of the GPL to prohibit the practice for those\n",
      " products.  If such problems arise substantially in other domains, we\n",
      " stand ready to extend this provision to those domains in future versions\n",
      " of the GPL, as needed to protect the freedom of users.\n",
      "\n",
      "   Finally, every program is threatened constantly by software patents.\n",
      " States should not allow patents to restrict development and use of\n",
      " software on general-purpose computers, but in those that do, we wish to\n",
      " avoid the special danger that patents applied to a free program could\n",
      " make it effectively proprietary.  To prevent this, the GPL assures that\n",
      " patents cannot be used to render the program non-free.\n",
      "\n",
      "   The precise terms and conditions for copying, distribution and\n",
      " modification follow.\n",
      "\n",
      "                        TERMS AND CONDITIONS\n",
      "\n",
      "   0. Definitions.\n",
      "\n",
      "   \"This License\" refers to version 3 of the GNU General Public License.\n",
      "\n",
      "   \"Copyright\" also means copyright-like laws that apply to other kinds of\n",
      " works, such as semiconductor masks.\n",
      "\n",
      "   \"The Program\" refers to any copyrightable work licensed under this\n",
      " License.  Each licensee is addressed as \"you\".  \"Licensees\" and\n",
      " \"recipients\" may be individuals or organizations.\n",
      "\n",
      "   To \"modify\" a work means to copy from or adapt all or part of the work\n",
      " in a fashion requiring copyright permission, other than the making of an\n",
      " exact copy.  The resulting work is called a \"modified version\" of the\n",
      " earlier work or a work \"based on\" the earlier work.\n",
      "\n",
      "   A \"covered work\" means either the unmodified Program or a work based\n",
      " on the Program.\n",
      "\n",
      "   To \"propagate\" a work means to do anything with it that, without\n",
      " permission, would make you directly or secondarily liable for\n",
      " infringement under applicable copyright law, except executing it on a\n",
      " computer or modifying a private copy.  Propagation includes copying,\n",
      " distribution (with or without modification), making available to the\n",
      " public, and in some countries other activities as well.\n",
      "\n",
      "   To \"convey\" a work means any kind of propagation that enables other\n",
      " parties to make or receive copies.  Mere interaction with a user through\n",
      " a computer network, with no transfer of a copy, is not conveying.\n",
      "\n",
      "   An interactive user interface displays \"Appropriate Legal Notices\"\n",
      " to the extent that it includes a convenient and prominently visible\n",
      " feature that (1) displays an appropriate copyright notice, and (2)\n",
      " tells the user that there is no warranty for the work (except to the\n",
      " extent that warranties are provided), that licensees may convey the\n",
      " work under this License, and how to view a copy of this License.  If\n",
      " the interface presents a list of user commands or options, such as a\n",
      " menu, a prominent item in the list meets this criterion.\n",
      "\n",
      "   1. Source Code.\n",
      "\n",
      "   The \"source code\" for a work means the preferred form of the work\n",
      " for making modifications to it.  \"Object code\" means any non-source\n",
      " form of a work.\n",
      "\n",
      "   A \"Standard Interface\" means an interface that either is an official\n",
      " standard defined by a recognized standards body, or, in the case of\n",
      " interfaces specified for a particular programming language, one that\n",
      " is widely used among developers working in that language.\n",
      "\n",
      "   The \"System Libraries\" of an executable work include anything, other\n",
      " than the work as a whole, that (a) is included in the normal form of\n",
      " packaging a Major Component, but which is not part of that Major\n",
      " Component, and (b) serves only to enable use of the work with that\n",
      " Major Component, or to implement a Standard Interface for which an\n",
      " implementation is available to the public in source code form.  A\n",
      " \"Major Component\", in this context, means a major essential component\n",
      " (kernel, window system, and so on) of the specific operating system\n",
      " (if any) on which the executable work runs, or a compiler used to\n",
      " produce the work, or an object code interpreter used to run it.\n",
      "\n",
      "   The \"Corresponding Source\" for a work in object code form means all\n",
      " the source code needed to generate, install, and (for an executable\n",
      " work) run the object code and to modify the work, including scripts to\n",
      " control those activities.  However, it does not include the work's\n",
      " System Libraries, or general-purpose tools or generally available free\n",
      " programs which are used unmodified in performing those activities but\n",
      " which are not part of the work.  For example, Corresponding Source\n",
      " includes interface definition files associated with source files for\n",
      " the work, and the source code for shared libraries and dynamically\n",
      " linked subprograms that the work is specifically designed to require,\n",
      " such as by intimate data communication or control flow between those\n",
      " subprograms and other parts of the work.\n",
      "\n",
      "   The Corresponding Source need not include anything that users\n",
      " can regenerate automatically from other parts of the Corresponding\n",
      " Source.\n",
      "\n",
      "   The Corresponding Source for a work in source code form is that\n",
      " same work.\n",
      "\n",
      "   2. Basic Permissions.\n",
      "\n",
      "   All rights granted under this License are granted for the term of\n",
      " copyright on the Program, and are irrevocable provided the stated\n",
      " conditions are met.  This License explicitly affirms your unlimited\n",
      " permission to run the unmodified Program.  The output from running a\n",
      " covered work is covered by this License only if the output, given its\n",
      " content, constitutes a covered work.  This License acknowledges your\n",
      " rights of fair use or other equivalent, as provided by copyright law.\n",
      "\n",
      "   You may make, run and propagate covered works that you do not\n",
      " convey, without conditions so long as your license otherwise remains\n",
      " in force.  You may convey covered works to others for the sole purpose\n",
      " of having them make modifications exclusively for you, or provide you\n",
      " with facilities for running those works, provided that you comply with\n",
      " the terms of this License in conveying all material for which you do\n",
      " not control copyright.  Those thus making or running the covered works\n",
      " for you must do so exclusively on your behalf, under your direction\n",
      " and control, on terms that prohibit them from making any copies of\n",
      " your copyrighted material outside their relationship with you.\n",
      "\n",
      "   Conveying under any other circumstances is permitted solely under\n",
      " the conditions stated below.  Sublicensing is not allowed; section 10\n",
      " makes it unnecessary.\n",
      "\n",
      "   3. Protecting Users' Legal Rights From Anti-Circumvention Law.\n",
      "\n",
      "   No covered work shall be deemed part of an effective technological\n",
      " measure under any applicable law fulfilling obligations under article\n",
      " 11 of the WIPO copyright treaty adopted on 20 December 1996, or\n",
      " similar laws prohibiting or restricting circumvention of such\n",
      " measures.\n",
      "\n",
      "   When you convey a covered work, you waive any legal power to forbid\n",
      " circumvention of technological measures to the extent such circumvention\n",
      " is effected by exercising rights under this License with respect to\n",
      " the covered work, and you disclaim any intention to limit operation or\n",
      " modification of the work as a means of enforcing, against the work's\n",
      " users, your or third parties' legal rights to forbid circumvention of\n",
      " technological measures.\n",
      "\n",
      "   4. Conveying Verbatim Copies.\n",
      "\n",
      "   You may convey verbatim copies of the Program's source code as you\n",
      " receive it, in any medium, provided that you conspicuously and\n",
      " appropriately publish on each copy an appropriate copyright notice;\n",
      " keep intact all notices stating that this License and any\n",
      " non-permissive terms added in accord with section 7 apply to the code;\n",
      " keep intact all notices of the absence of any warranty; and give all\n",
      " recipients a copy of this License along with the Program.\n",
      "\n",
      "   You may charge any price or no price for each copy that you convey,\n",
      " and you may offer support or warranty protection for a fee.\n",
      "\n",
      "   5. Conveying Modified Source Versions.\n",
      "\n",
      "   You may convey a work based on the Program, or the modifications to\n",
      " produce it from the Program, in the form of source code under the\n",
      " terms of section 4, provided that you also meet all of these conditions:\n",
      "\n",
      "     a) The work must carry prominent notices stating that you modified\n",
      "     it, and giving a relevant date.\n",
      "\n",
      "     b) The work must carry prominent notices stating that it is\n",
      "     released under this License and any conditions added under section\n",
      "     7.  This requirement modifies the requirement in section 4 to\n",
      "     \"keep intact all notices\".\n",
      "\n",
      "     c) You must license the entire work, as a whole, under this\n",
      "     License to anyone who comes into possession of a copy.  This\n",
      "     License will therefore apply, along with any applicable section 7\n",
      "     additional terms, to the whole of the work, and all its parts,\n",
      "     regardless of how they are packaged.  This License gives no\n",
      "     permission to license the work in any other way, but it does not\n",
      "     invalidate such permission if you have separately received it.\n",
      "\n",
      "     d) If the work has interactive user interfaces, each must display\n",
      "     Appropriate Legal Notices; however, if the Program has interactive\n",
      "     interfaces that do not display Appropriate Legal Notices, your\n",
      "     work need not make them do so.\n",
      "\n",
      "   A compilation of a covered work with other separate and independent\n",
      " works, which are not by their nature extensions of the covered work,\n",
      " and which are not combined with it such as to form a larger program,\n",
      " in or on a volume of a storage or distribution medium, is called an\n",
      " \"aggregate\" if the compilation and its resulting copyright are not\n",
      " used to limit the access or legal rights of the compilation's users\n",
      " beyond what the individual works permit.  Inclusion of a covered work\n",
      " in an aggregate does not cause this License to apply to the other\n",
      " parts of the aggregate.\n",
      "\n",
      "   6. Conveying Non-Source Forms.\n",
      "\n",
      "   You may convey a covered work in object code form under the terms\n",
      " of sections 4 and 5, provided that you also convey the\n",
      " machine-readable Corresponding Source under the terms of this License,\n",
      " in one of these ways:\n",
      "\n",
      "     a) Convey the object code in, or embodied in, a physical product\n",
      "     (including a physical distribution medium), accompanied by the\n",
      "     Corresponding Source fixed on a durable physical medium\n",
      "     customarily used for software interchange.\n",
      "\n",
      "     b) Convey the object code in, or embodied in, a physical product\n",
      "     (including a physical distribution medium), accompanied by a\n",
      "     written offer, valid for at least three years and valid for as\n",
      "     long as you offer spare parts or customer support for that product\n",
      "     model, to give anyone who possesses the object code either (1) a\n",
      "     copy of the Corresponding Source for all the software in the\n",
      "     product that is covered by this License, on a durable physical\n",
      "     medium customarily used for software interchange, for a price no\n",
      "     more than your reasonable cost of physically performing this\n",
      "     conveying of source, or (2) access to copy the\n",
      "     Corresponding Source from a network server at no charge.\n",
      "\n",
      "     c) Convey individual copies of the object code with a copy of the\n",
      "     written offer to provide the Corresponding Source.  This\n",
      "     alternative is allowed only occasionally and noncommercially, and\n",
      "     only if you received the object code with such an offer, in accord\n",
      "     with subsection 6b.\n",
      "\n",
      "     d) Convey the object code by offering access from a designated\n",
      "     place (gratis or for a charge), and offer equivalent access to the\n",
      "     Corresponding Source in the same way through the same place at no\n",
      "     further charge.  You need not require recipients to copy the\n",
      "     Corresponding Source along with the object code.  If the place to\n",
      "     copy the object code is a network server, the Corresponding Source\n",
      "     may be on a different server (operated by you or a third party)\n",
      "     that supports equivalent copying facilities, provided you maintain\n",
      "     clear directions next to the object code saying where to find the\n",
      "     Corresponding Source.  Regardless of what server hosts the\n",
      "     Corresponding Source, you remain obligated to ensure that it is\n",
      "     available for as long as needed to satisfy these requirements.\n",
      "\n",
      "     e) Convey the object code using peer-to-peer transmission, provided\n",
      "     you inform other peers where the object code and Corresponding\n",
      "     Source of the work are being offered to the general public at no\n",
      "     charge under subsection 6d.\n",
      "\n",
      "   A separable portion of the object code, whose source code is excluded\n",
      " from the Corresponding Source as a System Library, need not be\n",
      " included in conveying the object code work.\n",
      "\n",
      "   A \"User Product\" is either (1) a \"consumer product\", which means any\n",
      " tangible personal property which is normally used for personal, family,\n",
      " or household purposes, or (2) anything designed or sold for incorporation\n",
      " into a dwelling.  In determining whether a product is a consumer product,\n",
      " doubtful cases shall be resolved in favor of coverage.  For a particular\n",
      " product received by a particular user, \"normally used\" refers to a\n",
      " typical or common use of that class of product, regardless of the status\n",
      " of the particular user or of the way in which the particular user\n",
      " actually uses, or expects or is expected to use, the product.  A product\n",
      " is a consumer product regardless of whether the product has substantial\n",
      " commercial, industrial or non-consumer uses, unless such uses represent\n",
      " the only significant mode of use of the product.\n",
      "\n",
      "   \"Installation Information\" for a User Product means any methods,\n",
      " procedures, authorization keys, or other information required to install\n",
      " and execute modified versions of a covered work in that User Product from\n",
      " a modified version of its Corresponding Source.  The information must\n",
      " suffice to ensure that the continued functioning of the modified object\n",
      " code is in no case prevented or interfered with solely because\n",
      " modification has been made.\n",
      "\n",
      "   If you convey an object code work under this section in, or with, or\n",
      " specifically for use in, a User Product, and the conveying occurs as\n",
      " part of a transaction in which the right of possession and use of the\n",
      " User Product is transferred to the recipient in perpetuity or for a\n",
      " fixed term (regardless of how the transaction is characterized), the\n",
      " Corresponding Source conveyed under this section must be accompanied\n",
      " by the Installation Information.  But this requirement does not apply\n",
      " if neither you nor any third party retains the ability to install\n",
      " modified object code on the User Product (for example, the work has\n",
      " been installed in ROM).\n",
      "\n",
      "   The requirement to provide Installation Information does not include a\n",
      " requirement to continue to provide support service, warranty, or updates\n",
      " for a work that has been modified or installed by the recipient, or for\n",
      " the User Product in which it has been modified or installed.  Access to a\n",
      " network may be denied when the modification itself materially and\n",
      " adversely affects the operation of the network or violates the rules and\n",
      " protocols for communication across the network.\n",
      "\n",
      "   Corresponding Source conveyed, and Installation Information provided,\n",
      " in accord with this section must be in a format that is publicly\n",
      " documented (and with an implementation available to the public in\n",
      " source code form), and must require no special password or key for\n",
      " unpacking, reading or copying.\n",
      "\n",
      "   7. Additional Terms.\n",
      "\n",
      "   \"Additional permissions\" are terms that supplement the terms of this\n",
      " License by making exceptions from one or more of its conditions.\n",
      " Additional permissions that are applicable to the entire Program shall\n",
      " be treated as though they were included in this License, to the extent\n",
      " that they are valid under applicable law.  If additional permissions\n",
      " apply only to part of the Program, that part may be used separately\n",
      " under those permissions, but the entire Program remains governed by\n",
      " this License without regard to the additional permissions.\n",
      "\n",
      "   When you convey a copy of a covered work, you may at your option\n",
      " remove any additional permissions from that copy, or from any part of\n",
      " it.  (Additional permissions may be written to require their own\n",
      " removal in certain cases when you modify the work.)  You may place\n",
      " additional permissions on material, added by you to a covered work,\n",
      " for which you have or can give appropriate copyright permission.\n",
      "\n",
      "   Notwithstanding any other provision of this License, for material you\n",
      " add to a covered work, you may (if authorized by the copyright holders of\n",
      " that material) supplement the terms of this License with terms:\n",
      "\n",
      "     a) Disclaiming warranty or limiting liability differently from the\n",
      "     terms of sections 15 and 16 of this License; or\n",
      "\n",
      "     b) Requiring preservation of specified reasonable legal notices or\n",
      "     author attributions in that material or in the Appropriate Legal\n",
      "     Notices displayed by works containing it; or\n",
      "\n",
      "     c) Prohibiting misrepresentation of the origin of that material, or\n",
      "     requiring that modified versions of such material be marked in\n",
      "     reasonable ways as different from the original version; or\n",
      "\n",
      "     d) Limiting the use for publicity purposes of names of licensors or\n",
      "     authors of the material; or\n",
      "\n",
      "     e) Declining to grant rights under trademark law for use of some\n",
      "     trade names, trademarks, or service marks; or\n",
      "\n",
      "     f) Requiring indemnification of licensors and authors of that\n",
      "     material by anyone who conveys the material (or modified versions of\n",
      "     it) with contractual assumptions of liability to the recipient, for\n",
      "     any liability that these contractual assumptions directly impose on\n",
      "     those licensors and authors.\n",
      "\n",
      "   All other non-permissive additional terms are considered \"further\n",
      " restrictions\" within the meaning of section 10.  If the Program as you\n",
      " received it, or any part of it, contains a notice stating that it is\n",
      " governed by this License along with a term that is a further\n",
      " restriction, you may remove that term.  If a license document contains\n",
      " a further restriction but permits relicensing or conveying under this\n",
      " License, you may add to a covered work material governed by the terms\n",
      " of that license document, provided that the further restriction does\n",
      " not survive such relicensing or conveying.\n",
      "\n",
      "   If you add terms to a covered work in accord with this section, you\n",
      " must place, in the relevant source files, a statement of the\n",
      " additional terms that apply to those files, or a notice indicating\n",
      " where to find the applicable terms.\n",
      "\n",
      "   Additional terms, permissive or non-permissive, may be stated in the\n",
      " form of a separately written license, or stated as exceptions;\n",
      " the above requirements apply either way.\n",
      "\n",
      "   8. Termination.\n",
      "\n",
      "   You may not propagate or modify a covered work except as expressly\n",
      " provided under this License.  Any attempt otherwise to propagate or\n",
      " modify it is void, and will automatically terminate your rights under\n",
      " this License (including any patent licenses granted under the third\n",
      " paragraph of section 11).\n",
      "\n",
      "   However, if you cease all violation of this License, then your\n",
      " license from a particular copyright holder is reinstated (a)\n",
      " provisionally, unless and until the copyright holder explicitly and\n",
      " finally terminates your license, and (b) permanently, if the copyright\n",
      " holder fails to notify you of the violation by some reasonable means\n",
      " prior to 60 days after the cessation.\n",
      "\n",
      "   Moreover, your license from a particular copyright holder is\n",
      " reinstated permanently if the copyright holder notifies you of the\n",
      " violation by some reasonable means, this is the first time you have\n",
      " received notice of violation of this License (for any work) from that\n",
      " copyright holder, and you cure the violation prior to 30 days after\n",
      " your receipt of the notice.\n",
      "\n",
      "   Termination of your rights under this section does not terminate the\n",
      " licenses of parties who have received copies or rights from you under\n",
      " this License.  If your rights have been terminated and not permanently\n",
      " reinstated, you do not qualify to receive new licenses for the same\n",
      " material under section 10.\n",
      "\n",
      "   9. Acceptance Not Required for Having Copies.\n",
      "\n",
      "   You are not required to accept this License in order to receive or\n",
      " run a copy of the Program.  Ancillary propagation of a covered work\n",
      " occurring solely as a consequence of using peer-to-peer transmission\n",
      " to receive a copy likewise does not require acceptance.  However,\n",
      " nothing other than this License grants you permission to propagate or\n",
      " modify any covered work.  These actions infringe copyright if you do\n",
      " not accept this License.  Therefore, by modifying or propagating a\n",
      " covered work, you indicate your acceptance of this License to do so.\n",
      "\n",
      "   10. Automatic Licensing of Downstream Recipients.\n",
      "\n",
      "   Each time you convey a covered work, the recipient automatically\n",
      " receives a license from the original licensors, to run, modify and\n",
      " propagate that work, subject to this License.  You are not responsible\n",
      " for enforcing compliance by third parties with this License.\n",
      "\n",
      "   An \"entity transaction\" is a transaction transferring control of an\n",
      " organization, or substantially all assets of one, or subdividing an\n",
      " organization, or merging organizations.  If propagation of a covered\n",
      " work results from an entity transaction, each party to that\n",
      " transaction who receives a copy of the work also receives whatever\n",
      " licenses to the work the party's predecessor in interest had or could\n",
      " give under the previous paragraph, plus a right to possession of the\n",
      " Corresponding Source of the work from the predecessor in interest, if\n",
      " the predecessor has it or can get it with reasonable efforts.\n",
      "\n",
      "   You may not impose any further restrictions on the exercise of the\n",
      " rights granted or affirmed under this License.  For example, you may\n",
      " not impose a license fee, royalty, or other charge for exercise of\n",
      " rights granted under this License, and you may not initiate litigation\n",
      " (including a cross-claim or counterclaim in a lawsuit) alleging that\n",
      " any patent claim is infringed by making, using, selling, offering for\n",
      " sale, or importing the Program or any portion of it.\n",
      "\n",
      "   11. Patents.\n",
      "\n",
      "   A \"contributor\" is a copyright holder who authorizes use under this\n",
      " License of the Program or a work on which the Program is based.  The\n",
      " work thus licensed is called the contributor's \"contributor version\".\n",
      "\n",
      "   A contributor's \"essential patent claims\" are all patent claims\n",
      " owned or controlled by the contributor, whether already acquired or\n",
      " hereafter acquired, that would be infringed by some manner, permitted\n",
      " by this License, of making, using, or selling its contributor version,\n",
      " but do not include claims that would be infringed only as a\n",
      " consequence of further modification of the contributor version.  For\n",
      " purposes of this definition, \"control\" includes the right to grant\n",
      " patent sublicenses in a manner consistent with the requirements of\n",
      " this License.\n",
      "\n",
      "   Each contributor grants you a non-exclusive, worldwide, royalty-free\n",
      " patent license under the contributor's essential patent claims, to\n",
      " make, use, sell, offer for sale, import and otherwise run, modify and\n",
      " propagate the contents of its contributor version.\n",
      "\n",
      "   In the following three paragraphs, a \"patent license\" is any express\n",
      " agreement or commitment, however denominated, not to enforce a patent\n",
      " (such as an express permission to practice a patent or covenant not to\n",
      " sue for patent infringement).  To \"grant\" such a patent license to a\n",
      " party means to make such an agreement or commitment not to enforce a\n",
      " patent against the party.\n",
      "\n",
      "   If you convey a covered work, knowingly relying on a patent license,\n",
      " and the Corresponding Source of the work is not available for anyone\n",
      " to copy, free of charge and under the terms of this License, through a\n",
      " publicly available network server or other readily accessible means,\n",
      " then you must either (1) cause the Corresponding Source to be so\n",
      " available, or (2) arrange to deprive yourself of the benefit of the\n",
      " patent license for this particular work, or (3) arrange, in a manner\n",
      " consistent with the requirements of this License, to extend the patent\n",
      " license to downstream recipients.  \"Knowingly relying\" means you have\n",
      " actual knowledge that, but for the patent license, your conveying the\n",
      " covered work in a country, or your recipient's use of the covered work\n",
      " in a country, would infringe one or more identifiable patents in that\n",
      " country that you have reason to believe are valid.\n",
      "\n",
      "   If, pursuant to or in connection with a single transaction or\n",
      " arrangement, you convey, or propagate by procuring conveyance of, a\n",
      " covered work, and grant a patent license to some of the parties\n",
      " receiving the covered work authorizing them to use, propagate, modify\n",
      " or convey a specific copy of the covered work, then the patent license\n",
      " you grant is automatically extended to all recipients of the covered\n",
      " work and works based on it.\n",
      "\n",
      "   A patent license is \"discriminatory\" if it does not include within\n",
      " the scope of its coverage, prohibits the exercise of, or is\n",
      " conditioned on the non-exercise of one or more of the rights that are\n",
      " specifically granted under this License.  You may not convey a covered\n",
      " work if you are a party to an arrangement with a third party that is\n",
      " in the business of distributing software, under which you make payment\n",
      " to the third party based on the extent of your activity of conveying\n",
      " the work, and under which the third party grants, to any of the\n",
      " parties who would receive the covered work from you, a discriminatory\n",
      " patent license (a) in connection with copies of the covered work\n",
      " conveyed by you (or copies made from those copies), or (b) primarily\n",
      " for and in connection with specific products or compilations that\n",
      " contain the covered work, unless you entered into that arrangement,\n",
      " or that patent license was granted, prior to 28 March 2007.\n",
      "\n",
      "   Nothing in this License shall be construed as excluding or limiting\n",
      " any implied license or other defenses to infringement that may\n",
      " otherwise be available to you under applicable patent law.\n",
      "\n",
      "   12. No Surrender of Others' Freedom.\n",
      "\n",
      "   If conditions are imposed on you (whether by court order, agreement or\n",
      " otherwise) that contradict the conditions of this License, they do not\n",
      " excuse you from the conditions of this License.  If you cannot convey a\n",
      " covered work so as to satisfy simultaneously your obligations under this\n",
      " License and any other pertinent obligations, then as a consequence you may\n",
      " not convey it at all.  For example, if you agree to terms that obligate you\n",
      " to collect a royalty for further conveying from those to whom you convey\n",
      " the Program, the only way you could satisfy both those terms and this\n",
      " License would be to refrain entirely from conveying the Program.\n",
      "\n",
      "   13. Use with the GNU Affero General Public License.\n",
      "\n",
      "   Notwithstanding any other provision of this License, you have\n",
      " permission to link or combine any covered work with a work licensed\n",
      " under version 3 of the GNU Affero General Public License into a single\n",
      " combined work, and to convey the resulting work.  The terms of this\n",
      " License will continue to apply to the part which is the covered work,\n",
      " but the special requirements of the GNU Affero General Public License,\n",
      " section 13, concerning interaction through a network will apply to the\n",
      " combination as such.\n",
      "\n",
      "   14. Revised Versions of this License.\n",
      "\n",
      "   The Free Software Foundation may publish revised and/or new versions of\n",
      " the GNU General Public License from time to time.  Such new versions will\n",
      " be similar in spirit to the present version, but may differ in detail to\n",
      " address new problems or concerns.\n",
      "\n",
      "   Each version is given a distinguishing version number.  If the\n",
      " Program specifies that a certain numbered version of the GNU General\n",
      " Public License \"or any later version\" applies to it, you have the\n",
      " option of following the terms and conditions either of that numbered\n",
      " version or of any later version published by the Free Software\n",
      " Foundation.  If the Program does not specify a version number of the\n",
      " GNU General Public License, you may choose any version ever published\n",
      " by the Free Software Foundation.\n",
      "\n",
      "   If the Program specifies that a proxy can decide which future\n",
      " versions of the GNU General Public License can be used, that proxy's\n",
      " public statement of acceptance of a version permanently authorizes you\n",
      " to choose that version for the Program.\n",
      "\n",
      "   Later license versions may give you additional or different\n",
      " permissions.  However, no additional obligations are imposed on any\n",
      " author or copyright holder as a result of your choosing to follow a\n",
      " later version.\n",
      "\n",
      "   15. Disclaimer of Warranty.\n",
      "\n",
      "   THERE IS NO WARRANTY FOR THE PROGRAM, TO THE EXTENT PERMITTED BY\n",
      " APPLICABLE LAW.  EXCEPT WHEN OTHERWISE STATED IN WRITING THE COPYRIGHT\n",
      " HOLDERS AND/OR OTHER PARTIES PROVIDE THE PROGRAM \"AS IS\" WITHOUT WARRANTY\n",
      " OF ANY KIND, EITHER EXPRESSED OR IMPLIED, INCLUDING, BUT NOT LIMITED TO,\n",
      " THE IMPLIED WARRANTIES OF MERCHANTABILITY AND FITNESS FOR A PARTICULAR\n",
      " PURPOSE.  THE ENTIRE RISK AS TO THE QUALITY AND PERFORMANCE OF THE PROGRAM\n",
      " IS WITH YOU.  SHOULD THE PROGRAM PROVE DEFECTIVE, YOU ASSUME THE COST OF\n",
      " ALL NECESSARY SERVICING, REPAIR OR CORRECTION.\n",
      "\n",
      "   16. Limitation of Liability.\n",
      "\n",
      "   IN NO EVENT UNLESS REQUIRED BY APPLICABLE LAW OR AGREED TO IN WRITING\n",
      " WILL ANY COPYRIGHT HOLDER, OR ANY OTHER PARTY WHO MODIFIES AND/OR CONVEYS\n",
      " THE PROGRAM AS PERMITTED ABOVE, BE LIABLE TO YOU FOR DAMAGES, INCLUDING ANY\n",
      " GENERAL, SPECIAL, INCIDENTAL OR CONSEQUENTIAL DAMAGES ARISING OUT OF THE\n",
      " USE OR INABILITY TO USE THE PROGRAM (INCLUDING BUT NOT LIMITED TO LOSS OF\n",
      " DATA OR DATA BEING RENDERED INACCURATE OR LOSSES SUSTAINED BY YOU OR THIRD\n",
      " PARTIES OR A FAILURE OF THE PROGRAM TO OPERATE WITH ANY OTHER PROGRAMS),\n",
      " EVEN IF SUCH HOLDER OR OTHER PARTY HAS BEEN ADVISED OF THE POSSIBILITY OF\n",
      " SUCH DAMAGES.\n",
      "\n",
      "   17. Interpretation of Sections 15 and 16.\n",
      "\n",
      "   If the disclaimer of warranty and limitation of liability provided\n",
      " above cannot be given local legal effect according to their terms,\n",
      " reviewing courts shall apply local law that most closely approximates\n",
      " an absolute waiver of all civil liability in connection with the\n",
      " Program, unless a warranty or assumption of liability accompanies a\n",
      " copy of the Program in return for a fee.\n",
      "\n",
      "                      END OF TERMS AND CONDITIONS\n",
      "\n",
      "             How to Apply These Terms to Your New Programs\n",
      "\n",
      "   If you develop a new program, and you want it to be of the greatest\n",
      " possible use to the public, the best way to achieve this is to make it\n",
      " free software which everyone can redistribute and change under these terms.\n",
      "\n",
      "   To do so, attach the following notices to the program.  It is safest\n",
      " to attach them to the start of each source file to most effectively\n",
      " state the exclusion of warranty; and each file should have at least\n",
      " the \"copyright\" line and a pointer to where the full notice is found.\n",
      "\n",
      "     <one line to give the program's name and a brief idea of what it does.>\n",
      "     Copyright (C) <year>  <name of author>\n",
      "\n",
      "     This program is free software: you can redistribute it and/or modify\n",
      "     it under the terms of the GNU General Public License as published by\n",
      "     the Free Software Foundation, either version 3 of the License, or\n",
      "     (at your option) any later version.\n",
      "\n",
      "     This program is distributed in the hope that it will be useful,\n",
      "     but WITHOUT ANY WARRANTY; without even the implied warranty of\n",
      "     MERCHANTABILITY or FITNESS FOR A PARTICULAR PURPOSE.  See the\n",
      "     GNU General Public License for more details.\n",
      "\n",
      "     You should have received a copy of the GNU General Public License\n",
      "     along with this program.  If not, see <http://www.gnu.org/licenses/>.\n",
      "\n",
      " Also add information on how to contact you by electronic and paper mail.\n",
      "\n",
      "   If the program does terminal interaction, make it output a short\n",
      " notice like this when it starts in an interactive mode:\n",
      "\n",
      "     <program>  Copyright (C) <year>  <name of author>\n",
      "     This program comes with ABSOLUTELY NO WARRANTY; for details type `show w'.\n",
      "     This is free software, and you are welcome to redistribute it\n",
      "     under certain conditions; type `show c' for details.\n",
      "\n",
      " The hypothetical commands `show w' and `show c' should show the appropriate\n",
      " parts of the General Public License.  Of course, your program's commands\n",
      " might be different; for a GUI interface, you would use an \"about box\".\n",
      "\n",
      "   You should also get your employer (if you work as a programmer) or school,\n",
      " if any, to sign a \"copyright disclaimer\" for the program, if necessary.\n",
      " For more information on this, and how to apply and follow the GNU GPL, see\n",
      " <http://www.gnu.org/licenses/>.\n",
      "\n",
      "   The GNU General Public License does not permit incorporating your program\n",
      " into proprietary programs.  If your program is a subroutine library, you\n",
      " may consider it more useful to permit linking proprietary applications with\n",
      " the library.  If this is what you want to do, use the GNU Lesser General\n",
      " Public License instead of this License.  But first, please read\n",
      " <http://www.gnu.org/philosophy/why-not-lgpl.html>.\n",
      "\n",
      "\n",
      "Location: C:\\Users\\deepa\\OneDrive\\Documents\\New folder\\DAnalysis\\venv\\Lib\\site-packages\n",
      "Requires: \n",
      "Required-by: pandas\n"
     ]
    }
   ],
   "source": [
    "pip show numpy"
   ]
  },
  {
   "cell_type": "code",
   "execution_count": 12,
   "id": "9a1622cd-1b9c-405d-a2ef-05cb03440589",
   "metadata": {},
   "outputs": [],
   "source": [
    "import numpy as np"
   ]
  },
  {
   "cell_type": "markdown",
   "id": "6625198a-3901-4343-8a37-e7a5995a2412",
   "metadata": {},
   "source": [
    "Now numpy can be created using np.array function"
   ]
  },
  {
   "cell_type": "code",
   "execution_count": 13,
   "id": "9f75f11d-9dc9-4a04-b76b-2bae8823b371",
   "metadata": {},
   "outputs": [],
   "source": [
    "kanto = np.array([73, 67, 43])"
   ]
  },
  {
   "cell_type": "code",
   "execution_count": 14,
   "id": "751392af-9c73-4a93-a1e0-d8f34bc51cec",
   "metadata": {},
   "outputs": [
    {
     "data": {
      "text/plain": [
       "array([73, 67, 43])"
      ]
     },
     "execution_count": 14,
     "metadata": {},
     "output_type": "execute_result"
    }
   ],
   "source": [
    "kanto"
   ]
  },
  {
   "cell_type": "code",
   "execution_count": 15,
   "id": "744d639c-a4fd-4d81-80a1-38cf15afec02",
   "metadata": {},
   "outputs": [
    {
     "data": {
      "text/plain": [
       "numpy.ndarray"
      ]
     },
     "execution_count": 15,
     "metadata": {},
     "output_type": "execute_result"
    }
   ],
   "source": [
    "type(kanto)"
   ]
  },
  {
   "cell_type": "markdown",
   "id": "803dbf84-3898-4fdd-a8ca-e1de3c0733ab",
   "metadata": {},
   "source": [
    "- Numpy arrays support indexing also"
   ]
  },
  {
   "cell_type": "code",
   "execution_count": 16,
   "id": "12bda72f-d641-48ff-8cf9-2418fb14cd36",
   "metadata": {},
   "outputs": [
    {
     "data": {
      "text/plain": [
       "np.int64(67)"
      ]
     },
     "execution_count": 16,
     "metadata": {},
     "output_type": "execute_result"
    }
   ],
   "source": [
    "kanto[1]"
   ]
  },
  {
   "cell_type": "code",
   "execution_count": 17,
   "id": "f85f5953-3399-4263-be25-14215871568c",
   "metadata": {},
   "outputs": [
    {
     "name": "stdout",
     "output_type": "stream",
     "text": [
      "67\n"
     ]
    }
   ],
   "source": [
    "print(kanto[1])"
   ]
  },
  {
   "cell_type": "markdown",
   "id": "ae83b9c8-8039-4d9f-a88b-d2217eb6df29",
   "metadata": {},
   "source": [
    "- help function: help(np.dot)"
   ]
  },
  {
   "cell_type": "code",
   "execution_count": 18,
   "id": "61b8e294-5166-4ace-805f-1f99f7a9a2d4",
   "metadata": {},
   "outputs": [
    {
     "name": "stdout",
     "output_type": "stream",
     "text": [
      "Help on _ArrayFunctionDispatcher in module numpy:\n",
      "\n",
      "dot(...)\n",
      "    dot(a, b, out=None)\n",
      "\n",
      "    Dot product of two arrays. Specifically,\n",
      "\n",
      "    - If both `a` and `b` are 1-D arrays, it is inner product of vectors\n",
      "      (without complex conjugation).\n",
      "\n",
      "    - If both `a` and `b` are 2-D arrays, it is matrix multiplication,\n",
      "      but using :func:`matmul` or ``a @ b`` is preferred.\n",
      "\n",
      "    - If either `a` or `b` is 0-D (scalar), it is equivalent to\n",
      "      :func:`multiply` and using ``numpy.multiply(a, b)`` or ``a * b`` is\n",
      "      preferred.\n",
      "\n",
      "    - If `a` is an N-D array and `b` is a 1-D array, it is a sum product over\n",
      "      the last axis of `a` and `b`.\n",
      "\n",
      "    - If `a` is an N-D array and `b` is an M-D array (where ``M>=2``), it is a\n",
      "      sum product over the last axis of `a` and the second-to-last axis of\n",
      "      `b`::\n",
      "\n",
      "        dot(a, b)[i,j,k,m] = sum(a[i,j,:] * b[k,:,m])\n",
      "\n",
      "    It uses an optimized BLAS library when possible (see `numpy.linalg`).\n",
      "\n",
      "    Parameters\n",
      "    ----------\n",
      "    a : array_like\n",
      "        First argument.\n",
      "    b : array_like\n",
      "        Second argument.\n",
      "    out : ndarray, optional\n",
      "        Output argument. This must have the exact kind that would be returned\n",
      "        if it was not used. In particular, it must have the right type, must be\n",
      "        C-contiguous, and its dtype must be the dtype that would be returned\n",
      "        for `dot(a,b)`. This is a performance feature. Therefore, if these\n",
      "        conditions are not met, an exception is raised, instead of attempting\n",
      "        to be flexible.\n",
      "\n",
      "    Returns\n",
      "    -------\n",
      "    output : ndarray\n",
      "        Returns the dot product of `a` and `b`.  If `a` and `b` are both\n",
      "        scalars or both 1-D arrays then a scalar is returned; otherwise\n",
      "        an array is returned.\n",
      "        If `out` is given, then it is returned.\n",
      "\n",
      "    Raises\n",
      "    ------\n",
      "    ValueError\n",
      "        If the last dimension of `a` is not the same size as\n",
      "        the second-to-last dimension of `b`.\n",
      "\n",
      "    See Also\n",
      "    --------\n",
      "    vdot : Complex-conjugating dot product.\n",
      "    vecdot : Vector dot product of two arrays.\n",
      "    tensordot : Sum products over arbitrary axes.\n",
      "    einsum : Einstein summation convention.\n",
      "    matmul : '@' operator as method with out parameter.\n",
      "    linalg.multi_dot : Chained dot product.\n",
      "\n",
      "    Examples\n",
      "    --------\n",
      "    >>> import numpy as np\n",
      "    >>> np.dot(3, 4)\n",
      "    12\n",
      "\n",
      "    Neither argument is complex-conjugated:\n",
      "\n",
      "    >>> np.dot([2j, 3j], [2j, 3j])\n",
      "    (-13+0j)\n",
      "\n",
      "    For 2-D arrays it is the matrix product:\n",
      "\n",
      "    >>> a = [[1, 0], [0, 1]]\n",
      "    >>> b = [[4, 1], [2, 2]]\n",
      "    >>> np.dot(a, b)\n",
      "    array([[4, 1],\n",
      "           [2, 2]])\n",
      "\n",
      "    >>> a = np.arange(3*4*5*6).reshape((3,4,5,6))\n",
      "    >>> b = np.arange(3*4*5*6)[::-1].reshape((5,4,6,3))\n",
      "    >>> np.dot(a, b)[2,3,2,1,2,2]\n",
      "    499128\n",
      "    >>> sum(a[2,3,2,:] * b[1,2,:,2])\n",
      "    499128\n",
      "\n"
     ]
    }
   ],
   "source": [
    "help(np.dot)"
   ]
  },
  {
   "cell_type": "markdown",
   "id": "684d2fcf-56a2-4968-9d6d-48aece9c4b61",
   "metadata": {},
   "source": [
    "### Dot Produtct\n",
    "- np.dot()"
   ]
  },
  {
   "cell_type": "code",
   "execution_count": 19,
   "id": "0a162e6a-ce2e-44cf-a9d2-60b2d36997cc",
   "metadata": {},
   "outputs": [
    {
     "name": "stdout",
     "output_type": "stream",
     "text": [
      "10\n"
     ]
    }
   ],
   "source": [
    "a = [1, 2, 3]\n",
    "b = [3, 2, 1]\n",
    "print(np.dot(a, b))\n",
    "\n",
    "# simple multiply\n",
    "a = np.array(a)\n",
    "b = np.array(b)\n",
    "# print(a * b)"
   ]
  },
  {
   "cell_type": "code",
   "execution_count": 20,
   "id": "3225b673-5690-4e08-afee-58a744fea9fa",
   "metadata": {},
   "outputs": [
    {
     "data": {
      "text/plain": [
       "array([3, 4, 3])"
      ]
     },
     "execution_count": 20,
     "metadata": {},
     "output_type": "execute_result"
    }
   ],
   "source": [
    "a * b"
   ]
  },
  {
   "cell_type": "code",
   "execution_count": 21,
   "id": "4357608d-42e8-4c49-ba6a-19a6f8523af2",
   "metadata": {},
   "outputs": [
    {
     "data": {
      "text/plain": [
       "np.int64(10)"
      ]
     },
     "execution_count": 21,
     "metadata": {},
     "output_type": "execute_result"
    }
   ],
   "source": [
    "# sum\n",
    "(a * b).sum()"
   ]
  },
  {
   "cell_type": "markdown",
   "id": "6bc9bc13-1099-48a8-824e-42f4f1a1dd2e",
   "metadata": {},
   "source": [
    "- (*) operator perform an element-wise multiplication of two arrays (assuming they have the same size)."
   ]
  },
  {
   "cell_type": "code",
   "execution_count": 22,
   "id": "ef9f1d55-d2ed-4cda-82d4-53b81741115d",
   "metadata": {},
   "outputs": [
    {
     "data": {
      "text/plain": [
       "np.float64(56.8)"
      ]
     },
     "execution_count": 22,
     "metadata": {},
     "output_type": "execute_result"
    }
   ],
   "source": [
    "np.dot(Kanto, weights)"
   ]
  },
  {
   "cell_type": "code",
   "execution_count": 23,
   "id": "c89bfc1f-f84f-4b7c-9556-a537cafeeb2b",
   "metadata": {},
   "outputs": [
    {
     "name": "stdout",
     "output_type": "stream",
     "text": [
      "56.8\n"
     ]
    }
   ],
   "source": [
    "print(np.dot(Kanto, weights))"
   ]
  },
  {
   "cell_type": "markdown",
   "id": "14a74193-6ef0-4e88-a688-4fa6fe0bcbd7",
   "metadata": {},
   "source": [
    "#### Creating arrays command\n",
    "\n",
    "Using a fromiter()"
   ]
  },
  {
   "cell_type": "code",
   "execution_count": 24,
   "id": "c1241b34-d80e-403c-aafd-28381b03400b",
   "metadata": {},
   "outputs": [
    {
     "name": "stdout",
     "output_type": "stream",
     "text": [
      "[0 1 2 3 4 5 6 7]\n"
     ]
    }
   ],
   "source": [
    "iterable = (a for a in range(8))\n",
    "print(np.fromiter(iterable, int))"
   ]
  },
  {
   "cell_type": "code",
   "execution_count": 25,
   "id": "de329dcd-9ab2-4025-9aa2-bd4008d489ab",
   "metadata": {},
   "outputs": [
    {
     "data": {
      "text/plain": [
       "array([1, 2, 3, 4, 5, 6, 7, 8, 9])"
      ]
     },
     "execution_count": 25,
     "metadata": {},
     "output_type": "execute_result"
    }
   ],
   "source": [
    "# One D arrays\n",
    "np.arange(1, 10)"
   ]
  },
  {
   "cell_type": "code",
   "execution_count": 26,
   "id": "15b30760-fa45-4281-9770-29d4c4d1339f",
   "metadata": {},
   "outputs": [
    {
     "name": "stdout",
     "output_type": "stream",
     "text": [
      "[1 2 3 4]\n"
     ]
    }
   ],
   "source": [
    "print(np.arange(1, 5))"
   ]
  },
  {
   "cell_type": "code",
   "execution_count": 27,
   "id": "34ad1335-60b9-4db8-86e4-c2a94aa9f9a7",
   "metadata": {},
   "outputs": [
    {
     "name": "stdout",
     "output_type": "stream",
     "text": [
      "[ 1.    3.25  5.5   7.75 10.  ]\n"
     ]
    }
   ],
   "source": [
    "print(np.linspace(1, 10, 5))"
   ]
  },
  {
   "cell_type": "markdown",
   "id": "1cf711c1-fb3d-4004-a971-321c1247c57d",
   "metadata": {},
   "source": [
    "### Benifits of using numpy\n",
    "- Ease of use\n",
    "- Performance [Numpy operation and function are implemented internally in C++]\n",
    "\n",
    "Let's see an example"
   ]
  },
  {
   "cell_type": "code",
   "execution_count": 28,
   "id": "b32974d1-1380-4ec2-a473-ee52b8faddb4",
   "metadata": {},
   "outputs": [],
   "source": [
    "# Example:\n",
    "arr1 = list(range(100000))\n",
    "arr2 = list(range(100000, 200000))\n",
    "\n",
    "# numpy arrays\n",
    "arr1_np = np.array(arr1)\n",
    "arr2_np = np.array(arr2)"
   ]
  },
  {
   "cell_type": "markdown",
   "id": "f51ff70d-f602-4720-991f-798bed31d71c",
   "metadata": {},
   "source": [
    "%%time is a Jupyter Notebook magic command that measures the execution time of a single code cell. "
   ]
  },
  {
   "cell_type": "code",
   "execution_count": 29,
   "id": "e74e21d9-b0ba-4945-a3e9-af1cf6d1851b",
   "metadata": {},
   "outputs": [
    {
     "name": "stdout",
     "output_type": "stream",
     "text": [
      "CPU times: total: 15.6 ms\n",
      "Wall time: 26 ms\n"
     ]
    },
    {
     "data": {
      "text/plain": [
       "833323333350000"
      ]
     },
     "execution_count": 29,
     "metadata": {},
     "output_type": "execute_result"
    }
   ],
   "source": [
    "%%time\n",
    "result = 0\n",
    "for x, y in zip(arr1, arr2):\n",
    "    result += x * y\n",
    "result"
   ]
  },
  {
   "cell_type": "code",
   "execution_count": 30,
   "id": "b504ab99-5897-4981-9c8d-0a0cddb69a7a",
   "metadata": {},
   "outputs": [
    {
     "name": "stdout",
     "output_type": "stream",
     "text": [
      "CPU times: total: 0 ns\n",
      "Wall time: 1.01 ms\n"
     ]
    },
    {
     "data": {
      "text/plain": [
       "np.int64(833323333350000)"
      ]
     },
     "execution_count": 30,
     "metadata": {},
     "output_type": "execute_result"
    }
   ],
   "source": [
    "%%time\n",
    "result = 0\n",
    "np.dot(arr1_np, arr2_np)"
   ]
  },
  {
   "cell_type": "markdown",
   "id": "f688288e-a692-4fdb-a29c-dc2930e0b6e6",
   "metadata": {},
   "source": [
    "### Multi-dimensional numpy arrays\n",
    "- Climate data for all the region"
   ]
  },
  {
   "cell_type": "code",
   "execution_count": 31,
   "id": "fd7f5d2f-2d0f-4baa-a0bb-6943dcc63e90",
   "metadata": {},
   "outputs": [
    {
     "data": {
      "text/plain": [
       "array([[ 73,  67,  43],\n",
       "       [ 91,  88,  64],\n",
       "       [ 87, 134,  58],\n",
       "       [102,  43,  37],\n",
       "       [ 69,  96,  70]])"
      ]
     },
     "execution_count": 31,
     "metadata": {},
     "output_type": "execute_result"
    }
   ],
   "source": [
    "# 2d array\n",
    "climate_data = np.array([[73, 67, 43],\n",
    "                         [91, 88, 64],\n",
    "                         [87, 134, 58],\n",
    "                         [102, 43, 37],\n",
    "                         [69, 96, 70]])\n",
    "climate_data"
   ]
  },
  {
   "cell_type": "code",
   "execution_count": 32,
   "id": "ab4bab4e-1935-4e37-97da-6658d6bbd028",
   "metadata": {},
   "outputs": [
    {
     "data": {
      "text/plain": [
       "(5, 3)"
      ]
     },
     "execution_count": 32,
     "metadata": {},
     "output_type": "execute_result"
    }
   ],
   "source": [
    "# shape\n",
    "climate_data.shape"
   ]
  },
  {
   "cell_type": "code",
   "execution_count": 33,
   "id": "af514e0d-a4e1-408e-9cad-96f372351c8e",
   "metadata": {},
   "outputs": [
    {
     "data": {
      "text/plain": [
       "array([[[ 1,  2,  3],\n",
       "        [ 4,  5,  6]],\n",
       "\n",
       "       [[ 7,  8,  9],\n",
       "        [10, 11, 12]]])"
      ]
     },
     "execution_count": 33,
     "metadata": {},
     "output_type": "execute_result"
    }
   ],
   "source": [
    "# 3d array: [[[], []], [[], []]]\n",
    "arr3 = np.array([[[1, 2, 3], [4, 5, 6]],[[7, 8, 9], [10, 11, 12]]])\n",
    "arr3"
   ]
  },
  {
   "cell_type": "code",
   "execution_count": 34,
   "id": "71c00a29-c568-423a-9bd3-3cc8c529d514",
   "metadata": {},
   "outputs": [
    {
     "data": {
      "text/plain": [
       "(2, 2, 3)"
      ]
     },
     "execution_count": 34,
     "metadata": {},
     "output_type": "execute_result"
    }
   ],
   "source": [
    "# shpae\n",
    "arr3.shape"
   ]
  },
  {
   "cell_type": "code",
   "execution_count": 35,
   "id": "42c38d17-b520-4b0c-b245-c60ef75d0e77",
   "metadata": {},
   "outputs": [
    {
     "data": {
      "text/plain": [
       "(3,)"
      ]
     },
     "execution_count": 35,
     "metadata": {},
     "output_type": "execute_result"
    }
   ],
   "source": [
    "arr4 = np.array([1, 2, 3])\n",
    "arr4.shape"
   ]
  },
  {
   "cell_type": "code",
   "execution_count": 36,
   "id": "22c3a6cc-e30e-45f0-8004-ff6458999787",
   "metadata": {},
   "outputs": [
    {
     "data": {
      "text/plain": [
       "dtype('int64')"
      ]
     },
     "execution_count": 36,
     "metadata": {},
     "output_type": "execute_result"
    }
   ],
   "source": [
    "# Data type\n",
    "arr4.dtype"
   ]
  },
  {
   "cell_type": "markdown",
   "id": "3a954722-158d-4e11-8079-908b425f0190",
   "metadata": {},
   "source": [
    "### Now we can compute the predicted yield of apples in all regions, using a single matrix multiplication between climate_data (a 5x3 matrix) and weights (a vector length 3)\n",
    "\n",
    "- we can use np.matmul function from numpy or simply use the @ operator to perform matrix multiplication"
   ]
  },
  {
   "cell_type": "code",
   "execution_count": 37,
   "id": "6feb2c4e-bc4f-408b-a6d4-45bcd67278d8",
   "metadata": {},
   "outputs": [],
   "source": [
    "# matrix multiplication\n",
    "data = np.matmul(climate_data, weights)"
   ]
  },
  {
   "cell_type": "code",
   "execution_count": 38,
   "id": "fde03c81-8db9-4578-b996-7f7d56b3173d",
   "metadata": {},
   "outputs": [
    {
     "name": "stdout",
     "output_type": "stream",
     "text": [
      "Data: 56.8\n",
      "Data: 76.9\n",
      "Data: 81.9\n",
      "Data: 57.699999999999996\n",
      "Data: 74.9\n"
     ]
    }
   ],
   "source": [
    "for i in data:\n",
    "    print(\"Data:\", i)"
   ]
  },
  {
   "cell_type": "code",
   "execution_count": 39,
   "id": "da2eeb34-4096-4e02-bc4a-3d5de7f86cdd",
   "metadata": {},
   "outputs": [
    {
     "data": {
      "text/plain": [
       "array([56.8, 76.9, 81.9, 57.7, 74.9])"
      ]
     },
     "execution_count": 39,
     "metadata": {},
     "output_type": "execute_result"
    }
   ],
   "source": [
    "climate_data @ weights"
   ]
  },
  {
   "cell_type": "markdown",
   "id": "4d628d9b-809b-4165-8485-3218a30cd96a",
   "metadata": {},
   "source": [
    "## Working with CSV (Comma Seperated Values) file:\n",
    "- Numpy also provide helper functions reading from & writing to files."
   ]
  },
  {
   "cell_type": "code",
   "execution_count": 40,
   "id": "06157bd4-e45b-4622-b254-0d8152002d50",
   "metadata": {},
   "outputs": [],
   "source": [
    "# import urllib.request\n",
    "# url = \"https://raw.githubusercontent.com/the-stranger-web/jovian_Data_Analyst/refs/heads/main/italy-covid-daywise.csv\"\n",
    "# urllib.request.urlretrieve(url, 'data.txt')"
   ]
  },
  {
   "cell_type": "markdown",
   "id": "d3479779-bf3a-4ff3-909f-68c46e696d09",
   "metadata": {},
   "source": [
    "- We have a climate.txt file.\n",
    "- To read this into numpy array, we can use `genfromtxt` function"
   ]
  },
  {
   "cell_type": "code",
   "execution_count": 42,
   "id": "ee6e21ac-fc20-4aac-ab18-f3194ae4df84",
   "metadata": {},
   "outputs": [],
   "source": [
    "climate_data1 = np.genfromtxt('./data/climate.txt', delimiter=',', skip_header=1)"
   ]
  },
  {
   "cell_type": "code",
   "execution_count": 43,
   "id": "42421517-4903-415e-8dee-05d9c69f1baf",
   "metadata": {},
   "outputs": [
    {
     "data": {
      "text/plain": [
       "array([[44.97, 25.79, 60.28],\n",
       "       [89.98, 68.89, 46.56],\n",
       "       [86.53, 30.24, 74.74],\n",
       "       ...,\n",
       "       [35.78, 78.78, 40.17],\n",
       "       [40.24, 44.66, 75.39],\n",
       "       [58.95, 71.33, 71.11]], shape=(10000, 3))"
      ]
     },
     "execution_count": 43,
     "metadata": {},
     "output_type": "execute_result"
    }
   ],
   "source": [
    "climate_data1"
   ]
  },
  {
   "cell_type": "markdown",
   "id": "8810cf33-3222-44ff-8cec-db8b71711077",
   "metadata": {},
   "source": [
    "#### Now we can use matrix multiplication operator "
   ]
  },
  {
   "cell_type": "code",
   "execution_count": 44,
   "id": "a239d6d1-0e42-4be4-bcae-846e744cfec1",
   "metadata": {},
   "outputs": [],
   "source": [
    "weights = np.array([0.3, 0.2, 0.5])"
   ]
  },
  {
   "cell_type": "code",
   "execution_count": 45,
   "id": "30fed73b-c44f-47f3-bc68-186dcfe91761",
   "metadata": {},
   "outputs": [],
   "source": [
    "yields = climate_data1 @ weights"
   ]
  },
  {
   "cell_type": "code",
   "execution_count": 46,
   "id": "8ddd1fa4-80c2-4212-a902-2988d3da8668",
   "metadata": {},
   "outputs": [
    {
     "data": {
      "text/plain": [
       "array([48.789, 64.052, 69.377, ..., 46.575, 58.699, 67.506],\n",
       "      shape=(10000,))"
      ]
     },
     "execution_count": 46,
     "metadata": {},
     "output_type": "execute_result"
    }
   ],
   "source": [
    "yields"
   ]
  },
  {
   "cell_type": "markdown",
   "id": "9520b19e-d97e-4c7b-a782-e40f37c6c3d0",
   "metadata": {},
   "source": [
    "#### Now we can add a new column in climate_data1 as a yields\n",
    "- Using a np.concatenate function"
   ]
  },
  {
   "cell_type": "code",
   "execution_count": 47,
   "id": "95642336-41b9-48a9-b1f7-543677fe35db",
   "metadata": {},
   "outputs": [],
   "source": [
    "climate_result = np.concatenate((climate_data1, yields.reshape(10000, 1)), axis=1)"
   ]
  },
  {
   "cell_type": "code",
   "execution_count": 48,
   "id": "2d79b941-4ce0-42b1-b133-c2f8b0a849c6",
   "metadata": {},
   "outputs": [
    {
     "data": {
      "text/plain": [
       "array([[44.97 , 25.79 , 60.28 , 48.789],\n",
       "       [89.98 , 68.89 , 46.56 , 64.052],\n",
       "       [86.53 , 30.24 , 74.74 , 69.377],\n",
       "       ...,\n",
       "       [35.78 , 78.78 , 40.17 , 46.575],\n",
       "       [40.24 , 44.66 , 75.39 , 58.699],\n",
       "       [58.95 , 71.33 , 71.11 , 67.506]], shape=(10000, 4))"
      ]
     },
     "execution_count": 48,
     "metadata": {},
     "output_type": "execute_result"
    }
   ],
   "source": [
    "climate_result"
   ]
  },
  {
   "cell_type": "markdown",
   "id": "6d3e16e9-9cc5-431d-ac77-9a9a42c47484",
   "metadata": {},
   "source": [
    "#### Save txt file\n",
    "- Using np.savetxt"
   ]
  },
  {
   "cell_type": "code",
   "execution_count": 49,
   "id": "f142f4b3-78a5-4ec2-b24e-97358040ba49",
   "metadata": {},
   "outputs": [],
   "source": [
    "np.savetxt('climate_result',\n",
    "           climate_result,\n",
    "           fmt='%.2f',\n",
    "           header='temperature,rainfall,humidity,yeild_apples',\n",
    "           comments=\"\")"
   ]
  },
  {
   "cell_type": "markdown",
   "id": "b0105b9b-bd88-45c2-8105-0fda5f88bee3",
   "metadata": {},
   "source": [
    "## Arithemtic Operators: +, -, *, /"
   ]
  },
  {
   "cell_type": "code",
   "execution_count": 50,
   "id": "e4a223dd-346f-4b12-b22d-d42a62285b33",
   "metadata": {},
   "outputs": [],
   "source": [
    "# First 3x3 array\n",
    "arr1 = np.array([[1, 2, 3], \n",
    "                 [4, 5, 6], \n",
    "                 [7, 8, 9]])\n",
    "\n",
    "# Second 3x3 array\n",
    "arr2 = np.array([[9, 8, 7], \n",
    "                 [6, 5, 4], \n",
    "                 [3, 2, 1]])"
   ]
  },
  {
   "cell_type": "code",
   "execution_count": 51,
   "id": "5f975204-2099-442c-a02b-833c41de5b19",
   "metadata": {},
   "outputs": [
    {
     "data": {
      "text/plain": [
       "array([[ 4,  5,  6],\n",
       "       [ 7,  8,  9],\n",
       "       [10, 11, 12]])"
      ]
     },
     "execution_count": 51,
     "metadata": {},
     "output_type": "execute_result"
    }
   ],
   "source": [
    "# adding a scalar\n",
    "arr1 + 3"
   ]
  },
  {
   "cell_type": "code",
   "execution_count": 52,
   "id": "772caa66-8b49-4f21-84b2-b9ef7e16ec2a",
   "metadata": {},
   "outputs": [
    {
     "data": {
      "text/plain": [
       "array([[10, 10, 10],\n",
       "       [10, 10, 10],\n",
       "       [10, 10, 10]])"
      ]
     },
     "execution_count": 52,
     "metadata": {},
     "output_type": "execute_result"
    }
   ],
   "source": [
    "# Adding two array\n",
    "arr1 + arr2"
   ]
  },
  {
   "cell_type": "code",
   "execution_count": 53,
   "id": "ed628033-2d31-4a22-90a7-fab989dd26e4",
   "metadata": {},
   "outputs": [
    {
     "data": {
      "text/plain": [
       "array([[ 7,  6,  5],\n",
       "       [ 4,  3,  2],\n",
       "       [ 1,  0, -1]])"
      ]
     },
     "execution_count": 53,
     "metadata": {},
     "output_type": "execute_result"
    }
   ],
   "source": [
    "# Subtraction by scalar\n",
    "arr2 - 2"
   ]
  },
  {
   "cell_type": "code",
   "execution_count": 54,
   "id": "8cfeae16-b924-4f03-b343-5ea7ed139adb",
   "metadata": {},
   "outputs": [
    {
     "data": {
      "text/plain": [
       "array([[ 8,  6,  4],\n",
       "       [ 2,  0, -2],\n",
       "       [-4, -6, -8]])"
      ]
     },
     "execution_count": 54,
     "metadata": {},
     "output_type": "execute_result"
    }
   ],
   "source": [
    "# Subtraction of two arrays\n",
    "arr2 - arr1"
   ]
  },
  {
   "cell_type": "code",
   "execution_count": 55,
   "id": "4b136ded-432a-48cb-8a51-b02ddb017b75",
   "metadata": {},
   "outputs": [
    {
     "data": {
      "text/plain": [
       "array([[0.5, 1. , 1.5],\n",
       "       [2. , 2.5, 3. ],\n",
       "       [3.5, 4. , 4.5]])"
      ]
     },
     "execution_count": 55,
     "metadata": {},
     "output_type": "execute_result"
    }
   ],
   "source": [
    "# divide by scalar\n",
    "arr1/2"
   ]
  },
  {
   "cell_type": "code",
   "execution_count": 56,
   "id": "6a5ad261-ac3a-4d74-aa1f-13ddd154ee43",
   "metadata": {},
   "outputs": [
    {
     "data": {
      "text/plain": [
       "array([[9.        , 4.        , 2.33333333],\n",
       "       [1.5       , 1.        , 0.66666667],\n",
       "       [0.42857143, 0.25      , 0.11111111]])"
      ]
     },
     "execution_count": 56,
     "metadata": {},
     "output_type": "execute_result"
    }
   ],
   "source": [
    "arr2 / arr1"
   ]
  },
  {
   "cell_type": "code",
   "execution_count": 57,
   "id": "177d7530-56b7-4004-b954-4e9b1ec53d34",
   "metadata": {},
   "outputs": [
    {
     "data": {
      "text/plain": [
       "array([[ 9, 16, 21],\n",
       "       [24, 25, 24],\n",
       "       [21, 16,  9]])"
      ]
     },
     "execution_count": 57,
     "metadata": {},
     "output_type": "execute_result"
    }
   ],
   "source": [
    "# Element-wise multiplication\n",
    "arr1 * arr2"
   ]
  },
  {
   "cell_type": "code",
   "execution_count": 58,
   "id": "48942fc7-2d98-4c3d-852d-b9e3fc1e31ac",
   "metadata": {},
   "outputs": [
    {
     "data": {
      "text/plain": [
       "array([[0, 2, 1],\n",
       "       [0, 2, 1],\n",
       "       [0, 2, 1]])"
      ]
     },
     "execution_count": 58,
     "metadata": {},
     "output_type": "execute_result"
    }
   ],
   "source": [
    "# Modulus with scalar\n",
    "arr2 % 3"
   ]
  },
  {
   "cell_type": "markdown",
   "id": "3e3d86b8-f7bd-445e-90b8-a774068ff103",
   "metadata": {},
   "source": [
    "#### Numpy support broadcasting, which allows arithmetic operations between two array having a different number of dimensions, but compatible shape"
   ]
  },
  {
   "cell_type": "code",
   "execution_count": 59,
   "id": "560efd4a-00b9-4899-abad-44672c17f387",
   "metadata": {},
   "outputs": [
    {
     "data": {
      "text/plain": [
       "array([[1, 2, 3],\n",
       "       [4, 5, 6],\n",
       "       [7, 8, 9]])"
      ]
     },
     "execution_count": 59,
     "metadata": {},
     "output_type": "execute_result"
    }
   ],
   "source": [
    "arr1"
   ]
  },
  {
   "cell_type": "code",
   "execution_count": 60,
   "id": "29ac33df-cd47-4d5f-9b5b-3ab46b5bf4bd",
   "metadata": {},
   "outputs": [],
   "source": [
    "arr3 = np.array([2, 4, 6])"
   ]
  },
  {
   "cell_type": "code",
   "execution_count": 61,
   "id": "0ee0d68a-9569-47dc-8b02-b358da3e4bf2",
   "metadata": {},
   "outputs": [
    {
     "data": {
      "text/plain": [
       "array([[ 3,  6,  9],\n",
       "       [ 6,  9, 12],\n",
       "       [ 9, 12, 15]])"
      ]
     },
     "execution_count": 61,
     "metadata": {},
     "output_type": "execute_result"
    }
   ],
   "source": [
    "arr1 + arr3"
   ]
  },
  {
   "cell_type": "markdown",
   "id": "840a7bcb-a3f3-40f3-a047-815b1af911db",
   "metadata": {},
   "source": [
    "This convert arr3 into [2, 4, 6], [2, 4, 6], [2, 4, 6]\n",
    "\n",
    "---\n",
    "\n",
    "Broadcasting only work if one of the arrays can be replicated to exactly match the shape of the other array"
   ]
  },
  {
   "cell_type": "code",
   "execution_count": 62,
   "id": "bc88acea-7752-4950-a85b-249d3c1ed751",
   "metadata": {},
   "outputs": [],
   "source": [
    "arr4 = np.array([1, 5])"
   ]
  },
  {
   "cell_type": "code",
   "execution_count": 63,
   "id": "e9ad97b8-9aa8-4186-af61-eeb87005651e",
   "metadata": {},
   "outputs": [],
   "source": [
    "# arr1 + arr4\n",
    "# This give an error: operands could not be broadcast together with shapes (3,3) (2,) "
   ]
  },
  {
   "cell_type": "markdown",
   "id": "e3060ad2-5e00-43f5-8a60-4d65108d1901",
   "metadata": {},
   "source": [
    "### Numpy also supports comparision operators: ==, !=, >, < etc"
   ]
  },
  {
   "cell_type": "code",
   "execution_count": 64,
   "id": "e43af4f0-ee83-436e-b8ae-9c809f71cf6d",
   "metadata": {},
   "outputs": [
    {
     "data": {
      "text/plain": [
       "array([[False, False, False],\n",
       "       [False,  True, False],\n",
       "       [False, False, False]])"
      ]
     },
     "execution_count": 64,
     "metadata": {},
     "output_type": "execute_result"
    }
   ],
   "source": [
    "arr1 == arr2"
   ]
  },
  {
   "cell_type": "code",
   "execution_count": 65,
   "id": "878da2b0-541a-4105-b52e-0434a3b0c607",
   "metadata": {},
   "outputs": [
    {
     "data": {
      "text/plain": [
       "array([[False, False, False],\n",
       "       [False,  True,  True],\n",
       "       [ True,  True,  True]])"
      ]
     },
     "execution_count": 65,
     "metadata": {},
     "output_type": "execute_result"
    }
   ],
   "source": [
    "arr1 >= arr2"
   ]
  },
  {
   "cell_type": "code",
   "execution_count": 66,
   "id": "a6755222-fe29-45b4-bc89-d4b87d57190a",
   "metadata": {},
   "outputs": [
    {
     "data": {
      "text/plain": [
       "array([[ True,  True,  True],\n",
       "       [ True, False,  True],\n",
       "       [ True,  True,  True]])"
      ]
     },
     "execution_count": 66,
     "metadata": {},
     "output_type": "execute_result"
    }
   ],
   "source": [
    "arr1 != arr2"
   ]
  },
  {
   "cell_type": "code",
   "execution_count": 67,
   "id": "903d1497-f385-4457-bf73-a1765b27f170",
   "metadata": {},
   "outputs": [
    {
     "data": {
      "text/plain": [
       "dtype('bool')"
      ]
     },
     "execution_count": 67,
     "metadata": {},
     "output_type": "execute_result"
    }
   ],
   "source": [
    "(arr1 < arr2).dtype\n",
    "# It's array are boolean"
   ]
  },
  {
   "cell_type": "code",
   "execution_count": 68,
   "id": "a16898d2-4064-4115-968f-dafc7cc6e6c5",
   "metadata": {},
   "outputs": [
    {
     "data": {
      "text/plain": [
       "np.int64(4)"
      ]
     },
     "execution_count": 68,
     "metadata": {},
     "output_type": "execute_result"
    }
   ],
   "source": [
    "(arr1 > arr2).sum()"
   ]
  },
  {
   "cell_type": "markdown",
   "id": "23a191cf-3954-40ce-acf5-0b5ce7c2ea6f",
   "metadata": {},
   "source": [
    "#### **Step 1: Element-wise Comparison (`arr1 > arr2`)**\n",
    "\n",
    "This creates a **Boolean array** where each element is `True (1)` if `arr1[i, j] > arr2[i, j]`, otherwise `False (0)`.\n",
    "\n",
    "| **arr1** | **arr2** | **arr1 > arr2** |\n",
    "|----------|----------|----------------|\n",
    "| 1        | 9        | **False (0)**   |\n",
    "| 2        | 8        | **False (0)**   |\n",
    "| 3        | 7        | **False (0)**   |\n",
    "| 4        | 6        | **False (0)**   |\n",
    "| 5        | 5        | **False (0)**   |\n",
    "| 6        | 4        | **True (1)**    |\n",
    "| 7        | 3        | **True (1)**    |\n",
    "| 8        | 2        | **True (1)**    |\n",
    "| 9        | 1        | **True (1)**    |\n",
    "\n",
    "The resulting Boolean array:\n",
    "\n",
    "```python\n",
    "[[False False False]\n",
    " [False False  True]\n",
    " [ True  True  True]]\n",
    "```\n",
    "#### **Step 2: Summing the `True` Values**\n",
    "- `True` is equivalent to `1`, and `False` is `0`.\n",
    "\n",
    "The total count of `True (1)` values is:\n",
    "\n",
    "```python\n",
    "0 + 0 + 0 + 0 + 0 + 1 + 1 + 1 + 1 = 4\n",
    "\n"
   ]
  },
  {
   "cell_type": "markdown",
   "id": "227226e9-0a43-4530-b316-a2b6ba05931d",
   "metadata": {},
   "source": [
    "#### Array Indexing and Slicing"
   ]
  },
  {
   "cell_type": "code",
   "execution_count": 69,
   "id": "0427d11a-a1d5-46f9-8ed2-c5b57e7e1ad9",
   "metadata": {},
   "outputs": [],
   "source": [
    "arr = np.array([\n",
    "    [[1, 2, 3, 4], [5, 6, 7, 8]],  \n",
    "    [[9, 10, 11, 12], [13, 14, 15, 16]],  \n",
    "    [[17, 18, 19, 20], [21, 22, 23, 24]]  \n",
    "])"
   ]
  },
  {
   "cell_type": "code",
   "execution_count": 70,
   "id": "b4b1493f-72be-4d4e-930d-807942ce1dcd",
   "metadata": {},
   "outputs": [
    {
     "data": {
      "text/plain": [
       "(3, 2, 4)"
      ]
     },
     "execution_count": 70,
     "metadata": {},
     "output_type": "execute_result"
    }
   ],
   "source": [
    "arr.shape"
   ]
  },
  {
   "cell_type": "code",
   "execution_count": 71,
   "id": "a5aa7f2d-dcdc-4896-b526-4f2f99cd5a42",
   "metadata": {},
   "outputs": [
    {
     "data": {
      "text/plain": [
       "np.int64(15)"
      ]
     },
     "execution_count": 71,
     "metadata": {},
     "output_type": "execute_result"
    }
   ],
   "source": [
    "# Single element\n",
    "arr[1, 1, 2]"
   ]
  },
  {
   "cell_type": "code",
   "execution_count": 72,
   "id": "eb18ad46-21e1-4c9f-9bcf-eb9e03fb66c7",
   "metadata": {},
   "outputs": [
    {
     "name": "stdout",
     "output_type": "stream",
     "text": [
      "first:  [[ 9 10 11 12]\n",
      " [13 14 15 16]]\n",
      "second:  [13 14 15 16]\n",
      "third:  15\n"
     ]
    }
   ],
   "source": [
    "# Working:\n",
    "print(\"first: \",arr[1])\n",
    "print(\"second: \",arr[1, 1])\n",
    "print(\"third: \",arr[1, 1, 2])"
   ]
  },
  {
   "cell_type": "code",
   "execution_count": 73,
   "id": "a3cf1d0e-4f60-4b2f-a008-57178a78c547",
   "metadata": {},
   "outputs": [
    {
     "data": {
      "text/plain": [
       "array([[[ 1,  2,  3,  4],\n",
       "        [ 5,  6,  7,  8]],\n",
       "\n",
       "       [[ 9, 10, 11, 12],\n",
       "        [13, 14, 15, 16]],\n",
       "\n",
       "       [[17, 18, 19, 20],\n",
       "        [21, 22, 23, 24]]])"
      ]
     },
     "execution_count": 73,
     "metadata": {},
     "output_type": "execute_result"
    }
   ],
   "source": [
    "arr"
   ]
  },
  {
   "cell_type": "code",
   "execution_count": 74,
   "id": "60ffcf19-3257-447c-b40c-78cc5d52a741",
   "metadata": {},
   "outputs": [
    {
     "data": {
      "text/plain": [
       "array([[[11, 12]],\n",
       "\n",
       "       [[19, 20]]])"
      ]
     },
     "execution_count": 74,
     "metadata": {},
     "output_type": "execute_result"
    }
   ],
   "source": [
    "# Sub-array\n",
    "arr[1:, 0:1, 2:]"
   ]
  },
  {
   "cell_type": "code",
   "execution_count": 75,
   "id": "373f2312-b958-436b-abaf-6a075cd6aabd",
   "metadata": {},
   "outputs": [
    {
     "data": {
      "text/plain": [
       "array([[[ 9, 10, 11, 12],\n",
       "        [13, 14, 15, 16]],\n",
       "\n",
       "       [[17, 18, 19, 20],\n",
       "        [21, 22, 23, 24]]])"
      ]
     },
     "execution_count": 75,
     "metadata": {},
     "output_type": "execute_result"
    }
   ],
   "source": [
    "arr[1:]"
   ]
  },
  {
   "cell_type": "code",
   "execution_count": 76,
   "id": "57696dea-a154-41be-8412-b0ffd68bc38d",
   "metadata": {},
   "outputs": [
    {
     "data": {
      "text/plain": [
       "array([[[ 9, 10, 11, 12]],\n",
       "\n",
       "       [[17, 18, 19, 20]]])"
      ]
     },
     "execution_count": 76,
     "metadata": {},
     "output_type": "execute_result"
    }
   ],
   "source": [
    "arr[1:, 0:1]"
   ]
  },
  {
   "cell_type": "code",
   "execution_count": 77,
   "id": "cec8044e-c80c-408c-8590-2b894f69ab20",
   "metadata": {},
   "outputs": [
    {
     "data": {
      "text/plain": [
       "array([[[ 1,  2,  3,  4],\n",
       "        [ 5,  6,  7,  8]],\n",
       "\n",
       "       [[ 9, 10, 11, 12],\n",
       "        [13, 14, 15, 16]],\n",
       "\n",
       "       [[17, 18, 19, 20],\n",
       "        [21, 22, 23, 24]]])"
      ]
     },
     "execution_count": 77,
     "metadata": {},
     "output_type": "execute_result"
    }
   ],
   "source": [
    "arr"
   ]
  },
  {
   "cell_type": "code",
   "execution_count": 78,
   "id": "a0fa339c-67b7-4845-89fb-d2c2ace18400",
   "metadata": {},
   "outputs": [
    {
     "data": {
      "text/plain": [
       "array([16, 24])"
      ]
     },
     "execution_count": 78,
     "metadata": {},
     "output_type": "execute_result"
    }
   ],
   "source": [
    "# Mixing indices and ranges\n",
    "arr[1:, 1, 3]"
   ]
  },
  {
   "cell_type": "code",
   "execution_count": 79,
   "id": "168265a0-9a2a-42b8-8156-e0b903131a1c",
   "metadata": {},
   "outputs": [
    {
     "data": {
      "text/plain": [
       "array([[13, 14, 15],\n",
       "       [21, 22, 23]])"
      ]
     },
     "execution_count": 79,
     "metadata": {},
     "output_type": "execute_result"
    }
   ],
   "source": [
    "arr[1: , 1, :3]"
   ]
  },
  {
   "cell_type": "markdown",
   "id": "dee79d34-768c-415e-a0d1-4ac7b65a8856",
   "metadata": {},
   "source": [
    "Note: range preserve dimension"
   ]
  },
  {
   "cell_type": "markdown",
   "id": "27f8692f-4b60-4645-8d11-e53b3e20e467",
   "metadata": {},
   "source": [
    "### Other way of creating np.array\n",
    "### Python3\n",
    "\n",
    "#### Create a NumPy array using `numpy.arange()`\n",
    "```python\n",
    "import numpy as np\n",
    "\n",
    "print(np.arange(1, 10))\n",
    "```\n",
    "\n",
    "#### Create a NumPy array using `numpy.linspace()`\n",
    "```python\n",
    "print(np.linspace(1, 10, 3))\n",
    "```\n",
    "\n",
    "#### Create a NumPy array using `numpy.zeros()`\n",
    "```python\n",
    "print(np.zeros(5, dtype=int))\n",
    "```\n",
    "\n",
    "#### Create a NumPy array using `numpy.ones()`\n",
    "```python\n",
    "print(np.ones(5, dtype=int))\n",
    "```\n",
    "\n",
    "#### Create a NumPy array using `numpy.random.rand()`\n",
    "```python\n",
    "print(np.random.rand(5))\n",
    "```\n",
    "\n",
    "#### Create a NumPy array using `numpy.random.randint()`\n",
    "```python\n",
    "print(np.random.randint(5, size=10))\n",
    "```\n"
   ]
  },
  {
   "cell_type": "code",
   "execution_count": 80,
   "id": "ead6379b-29ef-4eb2-b9af-06e450e9aec7",
   "metadata": {},
   "outputs": [
    {
     "data": {
      "text/plain": [
       "array([[0., 0., 0.],\n",
       "       [0., 0., 0.]])"
      ]
     },
     "execution_count": 80,
     "metadata": {},
     "output_type": "execute_result"
    }
   ],
   "source": [
    "# All zeors\n",
    "np.zeros((2, 3))"
   ]
  },
  {
   "cell_type": "code",
   "execution_count": 81,
   "id": "0d6f00a3-7afa-411f-882a-742f68fbbd8a",
   "metadata": {},
   "outputs": [
    {
     "data": {
      "text/plain": [
       "array([[1., 1., 1.],\n",
       "       [1., 1., 1.]])"
      ]
     },
     "execution_count": 81,
     "metadata": {},
     "output_type": "execute_result"
    }
   ],
   "source": [
    "# All ones\n",
    "np.ones((2, 3))"
   ]
  },
  {
   "cell_type": "code",
   "execution_count": 82,
   "id": "0776108b-04e2-4246-a330-1d4d1c0d153d",
   "metadata": {},
   "outputs": [
    {
     "data": {
      "text/plain": [
       "array([[1., 0., 0.],\n",
       "       [0., 1., 0.],\n",
       "       [0., 0., 1.]])"
      ]
     },
     "execution_count": 82,
     "metadata": {},
     "output_type": "execute_result"
    }
   ],
   "source": [
    "# Identity Matrix\n",
    "np.eye(3)"
   ]
  },
  {
   "cell_type": "code",
   "execution_count": 83,
   "id": "7b3e7ac4-9598-4e55-b104-899a840aefc9",
   "metadata": {},
   "outputs": [
    {
     "data": {
      "text/plain": [
       "array([0.39541664, 0.90540893, 0.88909371])"
      ]
     },
     "execution_count": 83,
     "metadata": {},
     "output_type": "execute_result"
    }
   ],
   "source": [
    "# Random vector\n",
    "np.random.rand(3)"
   ]
  },
  {
   "cell_type": "code",
   "execution_count": 84,
   "id": "e57e108b-718e-4949-9208-a3312231ede9",
   "metadata": {},
   "outputs": [
    {
     "data": {
      "text/plain": [
       "array([[ 1.20938841,  0.67628984,  0.8305718 ],\n",
       "       [-0.57515529,  0.77443766,  0.04797616]])"
      ]
     },
     "execution_count": 84,
     "metadata": {},
     "output_type": "execute_result"
    }
   ],
   "source": [
    "# Random matrix\n",
    "np.random.randn(2,3)"
   ]
  },
  {
   "cell_type": "code",
   "execution_count": 85,
   "id": "562289c1-c2b8-46e7-952c-c60dbfa5e5f1",
   "metadata": {},
   "outputs": [
    {
     "data": {
      "text/plain": [
       "array([[44, 44, 44],\n",
       "       [44, 44, 44]])"
      ]
     },
     "execution_count": 85,
     "metadata": {},
     "output_type": "execute_result"
    }
   ],
   "source": [
    "# Fixed values\n",
    "np.full([2, 3], 44)"
   ]
  },
  {
   "cell_type": "code",
   "execution_count": 86,
   "id": "5d7ce9b6-b3d9-4f7a-a091-09a073cfd217",
   "metadata": {},
   "outputs": [
    {
     "data": {
      "text/plain": [
       "array([10, 13, 16, 19, 22, 25, 28, 31, 34, 37, 40, 43, 46, 49, 52, 55, 58,\n",
       "       61, 64, 67, 70, 73, 76, 79, 82, 85, 88])"
      ]
     },
     "execution_count": 86,
     "metadata": {},
     "output_type": "execute_result"
    }
   ],
   "source": [
    "# Range with start, end and step\n",
    "np.arange(10, 90, 3)"
   ]
  },
  {
   "cell_type": "code",
   "execution_count": 87,
   "id": "60b2869b-ece9-4e57-a887-32dfa84c121d",
   "metadata": {},
   "outputs": [
    {
     "data": {
      "text/plain": [
       "array([ 3.,  7., 11., 15., 19., 23., 27.])"
      ]
     },
     "execution_count": 87,
     "metadata": {},
     "output_type": "execute_result"
    }
   ],
   "source": [
    "# Equally spaced numbers in range\n",
    "np.linspace(3, 27, 7)"
   ]
  }
 ],
 "metadata": {
  "kernelspec": {
   "display_name": "Python 3 (ipykernel)",
   "language": "python",
   "name": "python3"
  },
  "language_info": {
   "codemirror_mode": {
    "name": "ipython",
    "version": 3
   },
   "file_extension": ".py",
   "mimetype": "text/x-python",
   "name": "python",
   "nbconvert_exporter": "python",
   "pygments_lexer": "ipython3",
   "version": "3.12.7"
  }
 },
 "nbformat": 4,
 "nbformat_minor": 5
}
