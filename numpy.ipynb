{
 "cells": [
  {
   "cell_type": "markdown",
   "id": "e9f029e0-46ce-4f8e-9879-1bb0fc006444",
   "metadata": {},
   "source": [
    "## Numpy\n",
    "- It is one of the most important foundational\n",
    "packages for numerical computing & data\n",
    "analysis in Python. Most computational\n",
    "packages providing scientific functionality use\n",
    "NumPy’s array objects as the lingua franca for\n",
    "data exchange."
   ]
  },
  {
   "cell_type": "markdown",
   "id": "edce9c0b-fd8a-4bb4-9807-798916201f2a",
   "metadata": {},
   "source": [
    "Let's say we want to use climate data like the temperature, rainfall and humidity in a region to determine if the region is well suited for growing apples. A really simple approach for doing this would be to formulate the relationship between the annual yield of apples (tons per hectare) and the climatic conditions like the average temperature (in degrees Fahrenheit), rainfall (in millimeters) & average relative humidity (in percentage) as a linear equation.\n",
    "\n",
    "$$\n",
    "\\text{yield\\_of\\_apples} = w_1 \\cdot \\text{temperature} + w_2 \\cdot \\text{rainfall} + w_3 \\cdot \\text{humidity}\n",
    "$$\n",
    "\n",
    "\n",
    "- We're expressing the yield of apples as a weighted sum of the temperature, rainfall and humidity. Obviously, this is an approximation, since the actual relation may not necessarily be linear. But a simple linear model like this often works well in practice.\n",
    "- Based on some statistical analysis of historical data, we might be able to come up with reasonable values for the weights `w1`, `w2` and `w3`. Here's an example set of values:  "
   ]
  },
  {
   "cell_type": "code",
   "execution_count": 1,
   "id": "f3ebcf55-5d94-4916-a771-f23d03491f31",
   "metadata": {},
   "outputs": [],
   "source": [
    "w1, w2, w3 = 0.3, 0.2, 0.5"
   ]
  },
  {
   "cell_type": "markdown",
   "id": "63c57735-bd18-4d11-90e0-5a04d7ef92bb",
   "metadata": {},
   "source": [
    "Given some climate data for a region, we can now predict what the yield of apples in the region might look like. Here's some sample data:\n",
    "\n",
    "| Region | Temp.(F) | Rainfall (mm) | Humidity (%) |\n",
    "|---|---|---|---|\n",
    "| Kanto | 73 | 67 | 43 |\n",
    "| Johto | 91 | 88 | 64 |\n",
    "| Hoenn | 87 | 134 | 58 |\n",
    "| Sinnoh | 102 | 43 | 37 |\n",
    "| Unova | 69 | 96 | 70 |\n",
    "\n",
    "To begin, we can define some variables to record the climate data for a region."
   ]
  },
  {
   "cell_type": "code",
   "execution_count": 2,
   "id": "5bac3237-e28c-4635-8a26-ddc573b1a8c9",
   "metadata": {},
   "outputs": [],
   "source": [
    "Kanto = [73, 67, 43]\n",
    "Johto = [91, 88, 64]\n",
    "Hoenn = [87, 134, 58]\n",
    "Sinnoh = [102, 43, 37]\n",
    "Unova = [69, 96, 70]"
   ]
  },
  {
   "cell_type": "code",
   "execution_count": 3,
   "id": "e4f48fbe-badf-46fe-b9e1-e818b3df534c",
   "metadata": {},
   "outputs": [],
   "source": [
    "weights = [w1, w2, w3]"
   ]
  },
  {
   "cell_type": "markdown",
   "id": "cd67809a-9171-45b9-a7e8-3560cc54876b",
   "metadata": {},
   "source": [
    "zip built-in function:\n",
    "\n",
    "```python\n",
    "list_one = [23, 24, 25, 26]\n",
    "list_two = [\"D\", \"E\", \"E\", \"P\"]\n",
    "for x, y in zip(list_one, list_two):\n",
    "    print(x, y, end=\" \")          # 23 D 24 E 25 E 26 P \n",
    "```"
   ]
  },
  {
   "cell_type": "code",
   "execution_count": 4,
   "id": "8356c85c-0bc8-42eb-a822-6b88ecf5efd9",
   "metadata": {},
   "outputs": [],
   "source": [
    "# list_one = [23, 24, 25, 26]\n",
    "# list_two = [\"D\", \"E\", \"E\", \"P\"]\n",
    "# for x, y in zip(list_one, list_two):\n",
    "#     print(x, y, end=\" \")"
   ]
  },
  {
   "cell_type": "markdown",
   "id": "ed71916e-39c4-4dbb-8bcb-8ac836ef87a4",
   "metadata": {},
   "source": [
    "### Now we can write a crop_yield functino to calculate yield of apples."
   ]
  },
  {
   "cell_type": "code",
   "execution_count": 5,
   "id": "349d5f98-f9b5-4500-b2c2-67684d2be1d6",
   "metadata": {
    "jupyter": {
     "source_hidden": true
    }
   },
   "outputs": [
    {
     "name": "stdout",
     "output_type": "stream",
     "text": [
      "73 0.3\n",
      "67 0.2\n",
      "43 0.5\n"
     ]
    }
   ],
   "source": [
    "for x,  y in zip(Kanto, weights):\n",
    "    print(x, y)"
   ]
  },
  {
   "cell_type": "code",
   "execution_count": 6,
   "id": "49f4437a-848f-4ef1-90ae-f383a69c0b12",
   "metadata": {},
   "outputs": [],
   "source": [
    "def crop_yield(region, weights):\n",
    "    result = 0\n",
    "    for x, y in zip(region, weights):\n",
    "        result += x*y\n",
    "    return result"
   ]
  },
  {
   "cell_type": "code",
   "execution_count": 7,
   "id": "329fa666-97bd-418e-888e-9dcba9d3b94c",
   "metadata": {},
   "outputs": [
    {
     "data": {
      "text/plain": [
       "56.8"
      ]
     },
     "execution_count": 7,
     "metadata": {},
     "output_type": "execute_result"
    }
   ],
   "source": [
    "crop_yield(Kanto, weights)"
   ]
  },
  {
   "cell_type": "code",
   "execution_count": 8,
   "id": "d457db8f-f45a-4c66-95a0-2e1e77493241",
   "metadata": {},
   "outputs": [
    {
     "data": {
      "text/plain": [
       "76.9"
      ]
     },
     "execution_count": 8,
     "metadata": {},
     "output_type": "execute_result"
    }
   ],
   "source": [
    "crop_yield(Johto, weights)"
   ]
  },
  {
   "cell_type": "code",
   "execution_count": 9,
   "id": "575b02fb-c35d-4ced-bfd6-e210c917ad92",
   "metadata": {},
   "outputs": [
    {
     "data": {
      "text/plain": [
       "74.9"
      ]
     },
     "execution_count": 9,
     "metadata": {},
     "output_type": "execute_result"
    }
   ],
   "source": [
    "crop_yield(Unova, weights)"
   ]
  },
  {
   "cell_type": "markdown",
   "id": "b46382f9-17b4-4f38-b580-408d17b42f87",
   "metadata": {},
   "source": [
    "### The calculation performed by crop_yield function is also called a dot product of two vectors.  \n",
    "The Numpy library provide a built-in function to perform dot product of two vectors. However the list must first be converted to numpy arrays before we can perform the operation.  \n",
    "- First: install the Numpy\n",
    "```\n",
    "!pip install numpy\n",
    "```\n",
    "- Second: import numpy as np"
   ]
  },
  {
   "cell_type": "code",
   "execution_count": 10,
   "id": "4c0cdb0d-2b25-4fff-9735-0ed1538b5c24",
   "metadata": {},
   "outputs": [
    {
     "name": "stdout",
     "output_type": "stream",
     "text": [
      "Requirement already satisfied: numpy in c:\\users\\deepa\\onedrive\\documents\\new folder\\danalysis\\venv\\lib\\site-packages (2.2.3)\n"
     ]
    }
   ],
   "source": [
    "!pip install numpy"
   ]
  },
  {
   "cell_type": "code",
   "execution_count": 12,
   "id": "9a1622cd-1b9c-405d-a2ef-05cb03440589",
   "metadata": {},
   "outputs": [],
   "source": [
    "import numpy as np"
   ]
  },
  {
   "cell_type": "markdown",
   "id": "6625198a-3901-4343-8a37-e7a5995a2412",
   "metadata": {},
   "source": [
    "Now numpy can be created using np.array function"
   ]
  },
  {
   "cell_type": "code",
   "execution_count": 13,
   "id": "9f75f11d-9dc9-4a04-b76b-2bae8823b371",
   "metadata": {},
   "outputs": [],
   "source": [
    "kanto = np.array([73, 67, 43])"
   ]
  },
  {
   "cell_type": "code",
   "execution_count": 14,
   "id": "751392af-9c73-4a93-a1e0-d8f34bc51cec",
   "metadata": {},
   "outputs": [
    {
     "data": {
      "text/plain": [
       "array([73, 67, 43])"
      ]
     },
     "execution_count": 14,
     "metadata": {},
     "output_type": "execute_result"
    }
   ],
   "source": [
    "kanto"
   ]
  },
  {
   "cell_type": "code",
   "execution_count": 15,
   "id": "744d639c-a4fd-4d81-80a1-38cf15afec02",
   "metadata": {},
   "outputs": [
    {
     "data": {
      "text/plain": [
       "numpy.ndarray"
      ]
     },
     "execution_count": 15,
     "metadata": {},
     "output_type": "execute_result"
    }
   ],
   "source": [
    "type(kanto)"
   ]
  },
  {
   "cell_type": "markdown",
   "id": "803dbf84-3898-4fdd-a8ca-e1de3c0733ab",
   "metadata": {},
   "source": [
    "- Numpy arrays support indexing also"
   ]
  },
  {
   "cell_type": "code",
   "execution_count": 16,
   "id": "12bda72f-d641-48ff-8cf9-2418fb14cd36",
   "metadata": {},
   "outputs": [
    {
     "data": {
      "text/plain": [
       "np.int64(67)"
      ]
     },
     "execution_count": 16,
     "metadata": {},
     "output_type": "execute_result"
    }
   ],
   "source": [
    "kanto[1]"
   ]
  },
  {
   "cell_type": "code",
   "execution_count": 17,
   "id": "f85f5953-3399-4263-be25-14215871568c",
   "metadata": {},
   "outputs": [
    {
     "name": "stdout",
     "output_type": "stream",
     "text": [
      "67\n"
     ]
    }
   ],
   "source": [
    "print(kanto[1])"
   ]
  },
  {
   "cell_type": "markdown",
   "id": "ae83b9c8-8039-4d9f-a88b-d2217eb6df29",
   "metadata": {},
   "source": [
    "- help function: help(np.dot)"
   ]
  },
  {
   "cell_type": "code",
   "execution_count": 18,
   "id": "61b8e294-5166-4ace-805f-1f99f7a9a2d4",
   "metadata": {},
   "outputs": [
    {
     "name": "stdout",
     "output_type": "stream",
     "text": [
      "Help on _ArrayFunctionDispatcher in module numpy:\n",
      "\n",
      "dot(...)\n",
      "    dot(a, b, out=None)\n",
      "\n",
      "    Dot product of two arrays. Specifically,\n",
      "\n",
      "    - If both `a` and `b` are 1-D arrays, it is inner product of vectors\n",
      "      (without complex conjugation).\n",
      "\n",
      "    - If both `a` and `b` are 2-D arrays, it is matrix multiplication,\n",
      "      but using :func:`matmul` or ``a @ b`` is preferred.\n",
      "\n",
      "    - If either `a` or `b` is 0-D (scalar), it is equivalent to\n",
      "      :func:`multiply` and using ``numpy.multiply(a, b)`` or ``a * b`` is\n",
      "      preferred.\n",
      "\n",
      "    - If `a` is an N-D array and `b` is a 1-D array, it is a sum product over\n",
      "      the last axis of `a` and `b`.\n",
      "\n",
      "    - If `a` is an N-D array and `b` is an M-D array (where ``M>=2``), it is a\n",
      "      sum product over the last axis of `a` and the second-to-last axis of\n",
      "      `b`::\n",
      "\n",
      "        dot(a, b)[i,j,k,m] = sum(a[i,j,:] * b[k,:,m])\n",
      "\n",
      "    It uses an optimized BLAS library when possible (see `numpy.linalg`).\n",
      "\n",
      "    Parameters\n",
      "    ----------\n",
      "    a : array_like\n",
      "        First argument.\n",
      "    b : array_like\n",
      "        Second argument.\n",
      "    out : ndarray, optional\n",
      "        Output argument. This must have the exact kind that would be returned\n",
      "        if it was not used. In particular, it must have the right type, must be\n",
      "        C-contiguous, and its dtype must be the dtype that would be returned\n",
      "        for `dot(a,b)`. This is a performance feature. Therefore, if these\n",
      "        conditions are not met, an exception is raised, instead of attempting\n",
      "        to be flexible.\n",
      "\n",
      "    Returns\n",
      "    -------\n",
      "    output : ndarray\n",
      "        Returns the dot product of `a` and `b`.  If `a` and `b` are both\n",
      "        scalars or both 1-D arrays then a scalar is returned; otherwise\n",
      "        an array is returned.\n",
      "        If `out` is given, then it is returned.\n",
      "\n",
      "    Raises\n",
      "    ------\n",
      "    ValueError\n",
      "        If the last dimension of `a` is not the same size as\n",
      "        the second-to-last dimension of `b`.\n",
      "\n",
      "    See Also\n",
      "    --------\n",
      "    vdot : Complex-conjugating dot product.\n",
      "    vecdot : Vector dot product of two arrays.\n",
      "    tensordot : Sum products over arbitrary axes.\n",
      "    einsum : Einstein summation convention.\n",
      "    matmul : '@' operator as method with out parameter.\n",
      "    linalg.multi_dot : Chained dot product.\n",
      "\n",
      "    Examples\n",
      "    --------\n",
      "    >>> import numpy as np\n",
      "    >>> np.dot(3, 4)\n",
      "    12\n",
      "\n",
      "    Neither argument is complex-conjugated:\n",
      "\n",
      "    >>> np.dot([2j, 3j], [2j, 3j])\n",
      "    (-13+0j)\n",
      "\n",
      "    For 2-D arrays it is the matrix product:\n",
      "\n",
      "    >>> a = [[1, 0], [0, 1]]\n",
      "    >>> b = [[4, 1], [2, 2]]\n",
      "    >>> np.dot(a, b)\n",
      "    array([[4, 1],\n",
      "           [2, 2]])\n",
      "\n",
      "    >>> a = np.arange(3*4*5*6).reshape((3,4,5,6))\n",
      "    >>> b = np.arange(3*4*5*6)[::-1].reshape((5,4,6,3))\n",
      "    >>> np.dot(a, b)[2,3,2,1,2,2]\n",
      "    499128\n",
      "    >>> sum(a[2,3,2,:] * b[1,2,:,2])\n",
      "    499128\n",
      "\n"
     ]
    }
   ],
   "source": [
    "help(np.dot)"
   ]
  },
  {
   "cell_type": "markdown",
   "id": "684d2fcf-56a2-4968-9d6d-48aece9c4b61",
   "metadata": {},
   "source": [
    "### Dot Produtct\n",
    "- np.dot()"
   ]
  },
  {
   "cell_type": "code",
   "execution_count": 19,
   "id": "0a162e6a-ce2e-44cf-a9d2-60b2d36997cc",
   "metadata": {},
   "outputs": [
    {
     "name": "stdout",
     "output_type": "stream",
     "text": [
      "10\n"
     ]
    }
   ],
   "source": [
    "a = [1, 2, 3]\n",
    "b = [3, 2, 1]\n",
    "print(np.dot(a, b))\n",
    "\n",
    "# simple multiply\n",
    "a = np.array(a)\n",
    "b = np.array(b)\n",
    "# print(a * b)"
   ]
  },
  {
   "cell_type": "code",
   "execution_count": 20,
   "id": "3225b673-5690-4e08-afee-58a744fea9fa",
   "metadata": {},
   "outputs": [
    {
     "data": {
      "text/plain": [
       "array([3, 4, 3])"
      ]
     },
     "execution_count": 20,
     "metadata": {},
     "output_type": "execute_result"
    }
   ],
   "source": [
    "a * b"
   ]
  },
  {
   "cell_type": "code",
   "execution_count": 21,
   "id": "4357608d-42e8-4c49-ba6a-19a6f8523af2",
   "metadata": {},
   "outputs": [
    {
     "data": {
      "text/plain": [
       "np.int64(10)"
      ]
     },
     "execution_count": 21,
     "metadata": {},
     "output_type": "execute_result"
    }
   ],
   "source": [
    "# sum\n",
    "(a * b).sum()"
   ]
  },
  {
   "cell_type": "markdown",
   "id": "6bc9bc13-1099-48a8-824e-42f4f1a1dd2e",
   "metadata": {},
   "source": [
    "- (*) operator perform an element-wise multiplication of two arrays (assuming they have the same size)."
   ]
  },
  {
   "cell_type": "code",
   "execution_count": 22,
   "id": "ef9f1d55-d2ed-4cda-82d4-53b81741115d",
   "metadata": {},
   "outputs": [
    {
     "data": {
      "text/plain": [
       "np.float64(56.8)"
      ]
     },
     "execution_count": 22,
     "metadata": {},
     "output_type": "execute_result"
    }
   ],
   "source": [
    "np.dot(Kanto, weights)"
   ]
  },
  {
   "cell_type": "code",
   "execution_count": 23,
   "id": "c89bfc1f-f84f-4b7c-9556-a537cafeeb2b",
   "metadata": {},
   "outputs": [
    {
     "name": "stdout",
     "output_type": "stream",
     "text": [
      "56.8\n"
     ]
    }
   ],
   "source": [
    "print(np.dot(Kanto, weights))"
   ]
  },
  {
   "cell_type": "markdown",
   "id": "14a74193-6ef0-4e88-a688-4fa6fe0bcbd7",
   "metadata": {},
   "source": [
    "#### Creating arrays command\n",
    "\n",
    "Using a fromiter()"
   ]
  },
  {
   "cell_type": "code",
   "execution_count": 24,
   "id": "c1241b34-d80e-403c-aafd-28381b03400b",
   "metadata": {},
   "outputs": [
    {
     "name": "stdout",
     "output_type": "stream",
     "text": [
      "[0 1 2 3 4 5 6 7]\n"
     ]
    }
   ],
   "source": [
    "iterable = (a for a in range(8))\n",
    "print(np.fromiter(iterable, int))"
   ]
  },
  {
   "cell_type": "code",
   "execution_count": 25,
   "id": "de329dcd-9ab2-4025-9aa2-bd4008d489ab",
   "metadata": {},
   "outputs": [
    {
     "data": {
      "text/plain": [
       "array([1, 2, 3, 4, 5, 6, 7, 8, 9])"
      ]
     },
     "execution_count": 25,
     "metadata": {},
     "output_type": "execute_result"
    }
   ],
   "source": [
    "# One D arrays\n",
    "np.arange(1, 10)"
   ]
  },
  {
   "cell_type": "code",
   "execution_count": 26,
   "id": "15b30760-fa45-4281-9770-29d4c4d1339f",
   "metadata": {},
   "outputs": [
    {
     "name": "stdout",
     "output_type": "stream",
     "text": [
      "[1 2 3 4]\n"
     ]
    }
   ],
   "source": [
    "print(np.arange(1, 5))"
   ]
  },
  {
   "cell_type": "code",
   "execution_count": 27,
   "id": "34ad1335-60b9-4db8-86e4-c2a94aa9f9a7",
   "metadata": {},
   "outputs": [
    {
     "name": "stdout",
     "output_type": "stream",
     "text": [
      "[ 1.    3.25  5.5   7.75 10.  ]\n"
     ]
    }
   ],
   "source": [
    "print(np.linspace(1, 10, 5))"
   ]
  },
  {
   "cell_type": "markdown",
   "id": "1cf711c1-fb3d-4004-a971-321c1247c57d",
   "metadata": {},
   "source": [
    "### Benifits of using numpy\n",
    "- Ease of use\n",
    "- Performance [Numpy operation and function are implemented internally in C++]\n",
    "\n",
    "Let's see an example"
   ]
  },
  {
   "cell_type": "code",
   "execution_count": 28,
   "id": "b32974d1-1380-4ec2-a473-ee52b8faddb4",
   "metadata": {},
   "outputs": [],
   "source": [
    "# Example:\n",
    "arr1 = list(range(100000))\n",
    "arr2 = list(range(100000, 200000))\n",
    "\n",
    "# numpy arrays\n",
    "arr1_np = np.array(arr1)\n",
    "arr2_np = np.array(arr2)"
   ]
  },
  {
   "cell_type": "markdown",
   "id": "f51ff70d-f602-4720-991f-798bed31d71c",
   "metadata": {},
   "source": [
    "%%time is a Jupyter Notebook magic command that measures the execution time of a single code cell. "
   ]
  },
  {
   "cell_type": "code",
   "execution_count": 29,
   "id": "e74e21d9-b0ba-4945-a3e9-af1cf6d1851b",
   "metadata": {},
   "outputs": [
    {
     "name": "stdout",
     "output_type": "stream",
     "text": [
      "CPU times: total: 15.6 ms\n",
      "Wall time: 26 ms\n"
     ]
    },
    {
     "data": {
      "text/plain": [
       "833323333350000"
      ]
     },
     "execution_count": 29,
     "metadata": {},
     "output_type": "execute_result"
    }
   ],
   "source": [
    "%%time\n",
    "result = 0\n",
    "for x, y in zip(arr1, arr2):\n",
    "    result += x * y\n",
    "result"
   ]
  },
  {
   "cell_type": "code",
   "execution_count": 30,
   "id": "b504ab99-5897-4981-9c8d-0a0cddb69a7a",
   "metadata": {},
   "outputs": [
    {
     "name": "stdout",
     "output_type": "stream",
     "text": [
      "CPU times: total: 0 ns\n",
      "Wall time: 1.01 ms\n"
     ]
    },
    {
     "data": {
      "text/plain": [
       "np.int64(833323333350000)"
      ]
     },
     "execution_count": 30,
     "metadata": {},
     "output_type": "execute_result"
    }
   ],
   "source": [
    "%%time\n",
    "result = 0\n",
    "np.dot(arr1_np, arr2_np)"
   ]
  },
  {
   "cell_type": "markdown",
   "id": "f688288e-a692-4fdb-a29c-dc2930e0b6e6",
   "metadata": {},
   "source": [
    "### Multi-dimensional numpy arrays\n",
    "- Climate data for all the region"
   ]
  },
  {
   "cell_type": "code",
   "execution_count": 31,
   "id": "fd7f5d2f-2d0f-4baa-a0bb-6943dcc63e90",
   "metadata": {},
   "outputs": [
    {
     "data": {
      "text/plain": [
       "array([[ 73,  67,  43],\n",
       "       [ 91,  88,  64],\n",
       "       [ 87, 134,  58],\n",
       "       [102,  43,  37],\n",
       "       [ 69,  96,  70]])"
      ]
     },
     "execution_count": 31,
     "metadata": {},
     "output_type": "execute_result"
    }
   ],
   "source": [
    "# 2d array\n",
    "climate_data = np.array([[73, 67, 43],\n",
    "                         [91, 88, 64],\n",
    "                         [87, 134, 58],\n",
    "                         [102, 43, 37],\n",
    "                         [69, 96, 70]])\n",
    "climate_data"
   ]
  },
  {
   "cell_type": "code",
   "execution_count": 32,
   "id": "ab4bab4e-1935-4e37-97da-6658d6bbd028",
   "metadata": {},
   "outputs": [
    {
     "data": {
      "text/plain": [
       "(5, 3)"
      ]
     },
     "execution_count": 32,
     "metadata": {},
     "output_type": "execute_result"
    }
   ],
   "source": [
    "# shape\n",
    "climate_data.shape"
   ]
  },
  {
   "cell_type": "code",
   "execution_count": 33,
   "id": "af514e0d-a4e1-408e-9cad-96f372351c8e",
   "metadata": {},
   "outputs": [
    {
     "data": {
      "text/plain": [
       "array([[[ 1,  2,  3],\n",
       "        [ 4,  5,  6]],\n",
       "\n",
       "       [[ 7,  8,  9],\n",
       "        [10, 11, 12]]])"
      ]
     },
     "execution_count": 33,
     "metadata": {},
     "output_type": "execute_result"
    }
   ],
   "source": [
    "# 3d array: [[[], []], [[], []]]\n",
    "arr3 = np.array([[[1, 2, 3], [4, 5, 6]],[[7, 8, 9], [10, 11, 12]]])\n",
    "arr3"
   ]
  },
  {
   "cell_type": "code",
   "execution_count": 34,
   "id": "71c00a29-c568-423a-9bd3-3cc8c529d514",
   "metadata": {},
   "outputs": [
    {
     "data": {
      "text/plain": [
       "(2, 2, 3)"
      ]
     },
     "execution_count": 34,
     "metadata": {},
     "output_type": "execute_result"
    }
   ],
   "source": [
    "# shpae\n",
    "arr3.shape"
   ]
  },
  {
   "cell_type": "code",
   "execution_count": 35,
   "id": "42c38d17-b520-4b0c-b245-c60ef75d0e77",
   "metadata": {},
   "outputs": [
    {
     "data": {
      "text/plain": [
       "(3,)"
      ]
     },
     "execution_count": 35,
     "metadata": {},
     "output_type": "execute_result"
    }
   ],
   "source": [
    "arr4 = np.array([1, 2, 3])\n",
    "arr4.shape"
   ]
  },
  {
   "cell_type": "code",
   "execution_count": 36,
   "id": "22c3a6cc-e30e-45f0-8004-ff6458999787",
   "metadata": {},
   "outputs": [
    {
     "data": {
      "text/plain": [
       "dtype('int64')"
      ]
     },
     "execution_count": 36,
     "metadata": {},
     "output_type": "execute_result"
    }
   ],
   "source": [
    "# Data type\n",
    "arr4.dtype"
   ]
  },
  {
   "cell_type": "markdown",
   "id": "3a954722-158d-4e11-8079-908b425f0190",
   "metadata": {},
   "source": [
    "### Now we can compute the predicted yield of apples in all regions, using a single matrix multiplication between climate_data (a 5x3 matrix) and weights (a vector length 3)\n",
    "\n",
    "- we can use np.matmul function from numpy or simply use the @ operator to perform matrix multiplication"
   ]
  },
  {
   "cell_type": "code",
   "execution_count": 37,
   "id": "6feb2c4e-bc4f-408b-a6d4-45bcd67278d8",
   "metadata": {},
   "outputs": [],
   "source": [
    "# matrix multiplication\n",
    "data = np.matmul(climate_data, weights)"
   ]
  },
  {
   "cell_type": "code",
   "execution_count": 38,
   "id": "fde03c81-8db9-4578-b996-7f7d56b3173d",
   "metadata": {},
   "outputs": [
    {
     "name": "stdout",
     "output_type": "stream",
     "text": [
      "Data: 56.8\n",
      "Data: 76.9\n",
      "Data: 81.9\n",
      "Data: 57.699999999999996\n",
      "Data: 74.9\n"
     ]
    }
   ],
   "source": [
    "for i in data:\n",
    "    print(\"Data:\", i)"
   ]
  },
  {
   "cell_type": "code",
   "execution_count": 39,
   "id": "da2eeb34-4096-4e02-bc4a-3d5de7f86cdd",
   "metadata": {},
   "outputs": [
    {
     "data": {
      "text/plain": [
       "array([56.8, 76.9, 81.9, 57.7, 74.9])"
      ]
     },
     "execution_count": 39,
     "metadata": {},
     "output_type": "execute_result"
    }
   ],
   "source": [
    "climate_data @ weights"
   ]
  },
  {
   "cell_type": "markdown",
   "id": "4d628d9b-809b-4165-8485-3218a30cd96a",
   "metadata": {},
   "source": [
    "## Working with CSV (Comma Seperated Values) file:\n",
    "- Numpy also provide helper functions reading from & writing to files."
   ]
  },
  {
   "cell_type": "code",
   "execution_count": 40,
   "id": "06157bd4-e45b-4622-b254-0d8152002d50",
   "metadata": {},
   "outputs": [],
   "source": [
    "# import urllib.request\n",
    "# url = \"https://raw.githubusercontent.com/the-stranger-web/jovian_Data_Analyst/refs/heads/main/italy-covid-daywise.csv\"\n",
    "# urllib.request.urlretrieve(url, 'data.txt')"
   ]
  },
  {
   "cell_type": "markdown",
   "id": "d3479779-bf3a-4ff3-909f-68c46e696d09",
   "metadata": {},
   "source": [
    "- We have a climate.txt file.\n",
    "- To read this into numpy array, we can use `genfromtxt` function"
   ]
  },
  {
   "cell_type": "code",
   "execution_count": 42,
   "id": "ee6e21ac-fc20-4aac-ab18-f3194ae4df84",
   "metadata": {},
   "outputs": [],
   "source": [
    "climate_data1 = np.genfromtxt('./data/climate.txt', delimiter=',', skip_header=1)"
   ]
  },
  {
   "cell_type": "code",
   "execution_count": 43,
   "id": "42421517-4903-415e-8dee-05d9c69f1baf",
   "metadata": {},
   "outputs": [
    {
     "data": {
      "text/plain": [
       "array([[44.97, 25.79, 60.28],\n",
       "       [89.98, 68.89, 46.56],\n",
       "       [86.53, 30.24, 74.74],\n",
       "       ...,\n",
       "       [35.78, 78.78, 40.17],\n",
       "       [40.24, 44.66, 75.39],\n",
       "       [58.95, 71.33, 71.11]], shape=(10000, 3))"
      ]
     },
     "execution_count": 43,
     "metadata": {},
     "output_type": "execute_result"
    }
   ],
   "source": [
    "climate_data1"
   ]
  },
  {
   "cell_type": "markdown",
   "id": "8810cf33-3222-44ff-8cec-db8b71711077",
   "metadata": {},
   "source": [
    "#### Now we can use matrix multiplication operator "
   ]
  },
  {
   "cell_type": "code",
   "execution_count": 44,
   "id": "a239d6d1-0e42-4be4-bcae-846e744cfec1",
   "metadata": {},
   "outputs": [],
   "source": [
    "weights = np.array([0.3, 0.2, 0.5])"
   ]
  },
  {
   "cell_type": "code",
   "execution_count": 45,
   "id": "30fed73b-c44f-47f3-bc68-186dcfe91761",
   "metadata": {},
   "outputs": [],
   "source": [
    "yields = climate_data1 @ weights"
   ]
  },
  {
   "cell_type": "code",
   "execution_count": 46,
   "id": "8ddd1fa4-80c2-4212-a902-2988d3da8668",
   "metadata": {},
   "outputs": [
    {
     "data": {
      "text/plain": [
       "array([48.789, 64.052, 69.377, ..., 46.575, 58.699, 67.506],\n",
       "      shape=(10000,))"
      ]
     },
     "execution_count": 46,
     "metadata": {},
     "output_type": "execute_result"
    }
   ],
   "source": [
    "yields"
   ]
  },
  {
   "cell_type": "markdown",
   "id": "9520b19e-d97e-4c7b-a782-e40f37c6c3d0",
   "metadata": {},
   "source": [
    "#### Now we can add a new column in climate_data1 as a yields\n",
    "- Using a np.concatenate function"
   ]
  },
  {
   "cell_type": "code",
   "execution_count": 47,
   "id": "95642336-41b9-48a9-b1f7-543677fe35db",
   "metadata": {},
   "outputs": [],
   "source": [
    "climate_result = np.concatenate((climate_data1, yields.reshape(10000, 1)), axis=1)"
   ]
  },
  {
   "cell_type": "code",
   "execution_count": 48,
   "id": "2d79b941-4ce0-42b1-b133-c2f8b0a849c6",
   "metadata": {},
   "outputs": [
    {
     "data": {
      "text/plain": [
       "array([[44.97 , 25.79 , 60.28 , 48.789],\n",
       "       [89.98 , 68.89 , 46.56 , 64.052],\n",
       "       [86.53 , 30.24 , 74.74 , 69.377],\n",
       "       ...,\n",
       "       [35.78 , 78.78 , 40.17 , 46.575],\n",
       "       [40.24 , 44.66 , 75.39 , 58.699],\n",
       "       [58.95 , 71.33 , 71.11 , 67.506]], shape=(10000, 4))"
      ]
     },
     "execution_count": 48,
     "metadata": {},
     "output_type": "execute_result"
    }
   ],
   "source": [
    "climate_result"
   ]
  },
  {
   "cell_type": "markdown",
   "id": "6d3e16e9-9cc5-431d-ac77-9a9a42c47484",
   "metadata": {},
   "source": [
    "#### Save txt file\n",
    "- Using np.savetxt"
   ]
  },
  {
   "cell_type": "code",
   "execution_count": 49,
   "id": "f142f4b3-78a5-4ec2-b24e-97358040ba49",
   "metadata": {},
   "outputs": [],
   "source": [
    "np.savetxt('climate_result',\n",
    "           climate_result,\n",
    "           fmt='%.2f',\n",
    "           header='temperature,rainfall,humidity,yeild_apples',\n",
    "           comments=\"\")"
   ]
  },
  {
   "cell_type": "markdown",
   "id": "b0105b9b-bd88-45c2-8105-0fda5f88bee3",
   "metadata": {},
   "source": [
    "## Arithemtic Operators: +, -, *, /"
   ]
  },
  {
   "cell_type": "code",
   "execution_count": 50,
   "id": "e4a223dd-346f-4b12-b22d-d42a62285b33",
   "metadata": {},
   "outputs": [],
   "source": [
    "# First 3x3 array\n",
    "arr1 = np.array([[1, 2, 3], \n",
    "                 [4, 5, 6], \n",
    "                 [7, 8, 9]])\n",
    "\n",
    "# Second 3x3 array\n",
    "arr2 = np.array([[9, 8, 7], \n",
    "                 [6, 5, 4], \n",
    "                 [3, 2, 1]])"
   ]
  },
  {
   "cell_type": "code",
   "execution_count": 51,
   "id": "5f975204-2099-442c-a02b-833c41de5b19",
   "metadata": {},
   "outputs": [
    {
     "data": {
      "text/plain": [
       "array([[ 4,  5,  6],\n",
       "       [ 7,  8,  9],\n",
       "       [10, 11, 12]])"
      ]
     },
     "execution_count": 51,
     "metadata": {},
     "output_type": "execute_result"
    }
   ],
   "source": [
    "# adding a scalar\n",
    "arr1 + 3"
   ]
  },
  {
   "cell_type": "code",
   "execution_count": 52,
   "id": "772caa66-8b49-4f21-84b2-b9ef7e16ec2a",
   "metadata": {},
   "outputs": [
    {
     "data": {
      "text/plain": [
       "array([[10, 10, 10],\n",
       "       [10, 10, 10],\n",
       "       [10, 10, 10]])"
      ]
     },
     "execution_count": 52,
     "metadata": {},
     "output_type": "execute_result"
    }
   ],
   "source": [
    "# Adding two array\n",
    "arr1 + arr2"
   ]
  },
  {
   "cell_type": "code",
   "execution_count": 53,
   "id": "ed628033-2d31-4a22-90a7-fab989dd26e4",
   "metadata": {},
   "outputs": [
    {
     "data": {
      "text/plain": [
       "array([[ 7,  6,  5],\n",
       "       [ 4,  3,  2],\n",
       "       [ 1,  0, -1]])"
      ]
     },
     "execution_count": 53,
     "metadata": {},
     "output_type": "execute_result"
    }
   ],
   "source": [
    "# Subtraction by scalar\n",
    "arr2 - 2"
   ]
  },
  {
   "cell_type": "code",
   "execution_count": 54,
   "id": "8cfeae16-b924-4f03-b343-5ea7ed139adb",
   "metadata": {},
   "outputs": [
    {
     "data": {
      "text/plain": [
       "array([[ 8,  6,  4],\n",
       "       [ 2,  0, -2],\n",
       "       [-4, -6, -8]])"
      ]
     },
     "execution_count": 54,
     "metadata": {},
     "output_type": "execute_result"
    }
   ],
   "source": [
    "# Subtraction of two arrays\n",
    "arr2 - arr1"
   ]
  },
  {
   "cell_type": "code",
   "execution_count": 55,
   "id": "4b136ded-432a-48cb-8a51-b02ddb017b75",
   "metadata": {},
   "outputs": [
    {
     "data": {
      "text/plain": [
       "array([[0.5, 1. , 1.5],\n",
       "       [2. , 2.5, 3. ],\n",
       "       [3.5, 4. , 4.5]])"
      ]
     },
     "execution_count": 55,
     "metadata": {},
     "output_type": "execute_result"
    }
   ],
   "source": [
    "# divide by scalar\n",
    "arr1/2"
   ]
  },
  {
   "cell_type": "code",
   "execution_count": 56,
   "id": "6a5ad261-ac3a-4d74-aa1f-13ddd154ee43",
   "metadata": {},
   "outputs": [
    {
     "data": {
      "text/plain": [
       "array([[9.        , 4.        , 2.33333333],\n",
       "       [1.5       , 1.        , 0.66666667],\n",
       "       [0.42857143, 0.25      , 0.11111111]])"
      ]
     },
     "execution_count": 56,
     "metadata": {},
     "output_type": "execute_result"
    }
   ],
   "source": [
    "arr2 / arr1"
   ]
  },
  {
   "cell_type": "code",
   "execution_count": 57,
   "id": "177d7530-56b7-4004-b954-4e9b1ec53d34",
   "metadata": {},
   "outputs": [
    {
     "data": {
      "text/plain": [
       "array([[ 9, 16, 21],\n",
       "       [24, 25, 24],\n",
       "       [21, 16,  9]])"
      ]
     },
     "execution_count": 57,
     "metadata": {},
     "output_type": "execute_result"
    }
   ],
   "source": [
    "# Element-wise multiplication\n",
    "arr1 * arr2"
   ]
  },
  {
   "cell_type": "code",
   "execution_count": 58,
   "id": "48942fc7-2d98-4c3d-852d-b9e3fc1e31ac",
   "metadata": {},
   "outputs": [
    {
     "data": {
      "text/plain": [
       "array([[0, 2, 1],\n",
       "       [0, 2, 1],\n",
       "       [0, 2, 1]])"
      ]
     },
     "execution_count": 58,
     "metadata": {},
     "output_type": "execute_result"
    }
   ],
   "source": [
    "# Modulus with scalar\n",
    "arr2 % 3"
   ]
  },
  {
   "cell_type": "markdown",
   "id": "3e3d86b8-f7bd-445e-90b8-a774068ff103",
   "metadata": {},
   "source": [
    "#### Numpy support broadcasting, which allows arithmetic operations between two array having a different number of dimensions, but compatible shape"
   ]
  },
  {
   "cell_type": "code",
   "execution_count": 59,
   "id": "560efd4a-00b9-4899-abad-44672c17f387",
   "metadata": {},
   "outputs": [
    {
     "data": {
      "text/plain": [
       "array([[1, 2, 3],\n",
       "       [4, 5, 6],\n",
       "       [7, 8, 9]])"
      ]
     },
     "execution_count": 59,
     "metadata": {},
     "output_type": "execute_result"
    }
   ],
   "source": [
    "arr1"
   ]
  },
  {
   "cell_type": "code",
   "execution_count": 60,
   "id": "29ac33df-cd47-4d5f-9b5b-3ab46b5bf4bd",
   "metadata": {},
   "outputs": [],
   "source": [
    "arr3 = np.array([2, 4, 6])"
   ]
  },
  {
   "cell_type": "code",
   "execution_count": 61,
   "id": "0ee0d68a-9569-47dc-8b02-b358da3e4bf2",
   "metadata": {},
   "outputs": [
    {
     "data": {
      "text/plain": [
       "array([[ 3,  6,  9],\n",
       "       [ 6,  9, 12],\n",
       "       [ 9, 12, 15]])"
      ]
     },
     "execution_count": 61,
     "metadata": {},
     "output_type": "execute_result"
    }
   ],
   "source": [
    "arr1 + arr3"
   ]
  },
  {
   "cell_type": "markdown",
   "id": "840a7bcb-a3f3-40f3-a047-815b1af911db",
   "metadata": {},
   "source": [
    "This convert arr3 into [2, 4, 6], [2, 4, 6], [2, 4, 6]\n",
    "\n",
    "---\n",
    "\n",
    "Broadcasting only work if one of the arrays can be replicated to exactly match the shape of the other array"
   ]
  },
  {
   "cell_type": "code",
   "execution_count": 62,
   "id": "bc88acea-7752-4950-a85b-249d3c1ed751",
   "metadata": {},
   "outputs": [],
   "source": [
    "arr4 = np.array([1, 5])"
   ]
  },
  {
   "cell_type": "code",
   "execution_count": 63,
   "id": "e9ad97b8-9aa8-4186-af61-eeb87005651e",
   "metadata": {},
   "outputs": [],
   "source": [
    "# arr1 + arr4\n",
    "# This give an error: operands could not be broadcast together with shapes (3,3) (2,) "
   ]
  },
  {
   "cell_type": "markdown",
   "id": "e3060ad2-5e00-43f5-8a60-4d65108d1901",
   "metadata": {},
   "source": [
    "### Numpy also supports comparision operators: ==, !=, >, < etc"
   ]
  },
  {
   "cell_type": "code",
   "execution_count": 64,
   "id": "e43af4f0-ee83-436e-b8ae-9c809f71cf6d",
   "metadata": {},
   "outputs": [
    {
     "data": {
      "text/plain": [
       "array([[False, False, False],\n",
       "       [False,  True, False],\n",
       "       [False, False, False]])"
      ]
     },
     "execution_count": 64,
     "metadata": {},
     "output_type": "execute_result"
    }
   ],
   "source": [
    "arr1 == arr2"
   ]
  },
  {
   "cell_type": "code",
   "execution_count": 65,
   "id": "878da2b0-541a-4105-b52e-0434a3b0c607",
   "metadata": {},
   "outputs": [
    {
     "data": {
      "text/plain": [
       "array([[False, False, False],\n",
       "       [False,  True,  True],\n",
       "       [ True,  True,  True]])"
      ]
     },
     "execution_count": 65,
     "metadata": {},
     "output_type": "execute_result"
    }
   ],
   "source": [
    "arr1 >= arr2"
   ]
  },
  {
   "cell_type": "code",
   "execution_count": 66,
   "id": "a6755222-fe29-45b4-bc89-d4b87d57190a",
   "metadata": {},
   "outputs": [
    {
     "data": {
      "text/plain": [
       "array([[ True,  True,  True],\n",
       "       [ True, False,  True],\n",
       "       [ True,  True,  True]])"
      ]
     },
     "execution_count": 66,
     "metadata": {},
     "output_type": "execute_result"
    }
   ],
   "source": [
    "arr1 != arr2"
   ]
  },
  {
   "cell_type": "code",
   "execution_count": 67,
   "id": "903d1497-f385-4457-bf73-a1765b27f170",
   "metadata": {},
   "outputs": [
    {
     "data": {
      "text/plain": [
       "dtype('bool')"
      ]
     },
     "execution_count": 67,
     "metadata": {},
     "output_type": "execute_result"
    }
   ],
   "source": [
    "(arr1 < arr2).dtype\n",
    "# It's array are boolean"
   ]
  },
  {
   "cell_type": "code",
   "execution_count": 68,
   "id": "a16898d2-4064-4115-968f-dafc7cc6e6c5",
   "metadata": {},
   "outputs": [
    {
     "data": {
      "text/plain": [
       "np.int64(4)"
      ]
     },
     "execution_count": 68,
     "metadata": {},
     "output_type": "execute_result"
    }
   ],
   "source": [
    "(arr1 > arr2).sum()"
   ]
  },
  {
   "cell_type": "markdown",
   "id": "23a191cf-3954-40ce-acf5-0b5ce7c2ea6f",
   "metadata": {},
   "source": [
    "#### **Step 1: Element-wise Comparison (`arr1 > arr2`)**\n",
    "\n",
    "This creates a **Boolean array** where each element is `True (1)` if `arr1[i, j] > arr2[i, j]`, otherwise `False (0)`.\n",
    "\n",
    "| **arr1** | **arr2** | **arr1 > arr2** |\n",
    "|----------|----------|----------------|\n",
    "| 1        | 9        | **False (0)**   |\n",
    "| 2        | 8        | **False (0)**   |\n",
    "| 3        | 7        | **False (0)**   |\n",
    "| 4        | 6        | **False (0)**   |\n",
    "| 5        | 5        | **False (0)**   |\n",
    "| 6        | 4        | **True (1)**    |\n",
    "| 7        | 3        | **True (1)**    |\n",
    "| 8        | 2        | **True (1)**    |\n",
    "| 9        | 1        | **True (1)**    |\n",
    "\n",
    "The resulting Boolean array:\n",
    "\n",
    "```python\n",
    "[[False False False]\n",
    " [False False  True]\n",
    " [ True  True  True]]\n",
    "```\n",
    "#### **Step 2: Summing the `True` Values**\n",
    "- `True` is equivalent to `1`, and `False` is `0`.\n",
    "\n",
    "The total count of `True (1)` values is:\n",
    "\n",
    "```python\n",
    "0 + 0 + 0 + 0 + 0 + 1 + 1 + 1 + 1 = 4\n",
    "\n"
   ]
  },
  {
   "cell_type": "markdown",
   "id": "227226e9-0a43-4530-b316-a2b6ba05931d",
   "metadata": {},
   "source": [
    "#### Array Indexing and Slicing"
   ]
  },
  {
   "cell_type": "code",
   "execution_count": 69,
   "id": "0427d11a-a1d5-46f9-8ed2-c5b57e7e1ad9",
   "metadata": {},
   "outputs": [],
   "source": [
    "arr = np.array([\n",
    "    [[1, 2, 3, 4], [5, 6, 7, 8]],  \n",
    "    [[9, 10, 11, 12], [13, 14, 15, 16]],  \n",
    "    [[17, 18, 19, 20], [21, 22, 23, 24]]  \n",
    "])"
   ]
  },
  {
   "cell_type": "code",
   "execution_count": 70,
   "id": "b4b1493f-72be-4d4e-930d-807942ce1dcd",
   "metadata": {},
   "outputs": [
    {
     "data": {
      "text/plain": [
       "(3, 2, 4)"
      ]
     },
     "execution_count": 70,
     "metadata": {},
     "output_type": "execute_result"
    }
   ],
   "source": [
    "arr.shape"
   ]
  },
  {
   "cell_type": "code",
   "execution_count": 71,
   "id": "a5aa7f2d-dcdc-4896-b526-4f2f99cd5a42",
   "metadata": {},
   "outputs": [
    {
     "data": {
      "text/plain": [
       "np.int64(15)"
      ]
     },
     "execution_count": 71,
     "metadata": {},
     "output_type": "execute_result"
    }
   ],
   "source": [
    "# Single element\n",
    "arr[1, 1, 2]"
   ]
  },
  {
   "cell_type": "code",
   "execution_count": 72,
   "id": "eb18ad46-21e1-4c9f-9bcf-eb9e03fb66c7",
   "metadata": {},
   "outputs": [
    {
     "name": "stdout",
     "output_type": "stream",
     "text": [
      "first:  [[ 9 10 11 12]\n",
      " [13 14 15 16]]\n",
      "second:  [13 14 15 16]\n",
      "third:  15\n"
     ]
    }
   ],
   "source": [
    "# Working:\n",
    "print(\"first: \",arr[1])\n",
    "print(\"second: \",arr[1, 1])\n",
    "print(\"third: \",arr[1, 1, 2])"
   ]
  },
  {
   "cell_type": "code",
   "execution_count": 73,
   "id": "a3cf1d0e-4f60-4b2f-a008-57178a78c547",
   "metadata": {},
   "outputs": [
    {
     "data": {
      "text/plain": [
       "array([[[ 1,  2,  3,  4],\n",
       "        [ 5,  6,  7,  8]],\n",
       "\n",
       "       [[ 9, 10, 11, 12],\n",
       "        [13, 14, 15, 16]],\n",
       "\n",
       "       [[17, 18, 19, 20],\n",
       "        [21, 22, 23, 24]]])"
      ]
     },
     "execution_count": 73,
     "metadata": {},
     "output_type": "execute_result"
    }
   ],
   "source": [
    "arr"
   ]
  },
  {
   "cell_type": "code",
   "execution_count": 74,
   "id": "60ffcf19-3257-447c-b40c-78cc5d52a741",
   "metadata": {},
   "outputs": [
    {
     "data": {
      "text/plain": [
       "array([[[11, 12]],\n",
       "\n",
       "       [[19, 20]]])"
      ]
     },
     "execution_count": 74,
     "metadata": {},
     "output_type": "execute_result"
    }
   ],
   "source": [
    "# Sub-array\n",
    "arr[1:, 0:1, 2:]"
   ]
  },
  {
   "cell_type": "code",
   "execution_count": 75,
   "id": "373f2312-b958-436b-abaf-6a075cd6aabd",
   "metadata": {},
   "outputs": [
    {
     "data": {
      "text/plain": [
       "array([[[ 9, 10, 11, 12],\n",
       "        [13, 14, 15, 16]],\n",
       "\n",
       "       [[17, 18, 19, 20],\n",
       "        [21, 22, 23, 24]]])"
      ]
     },
     "execution_count": 75,
     "metadata": {},
     "output_type": "execute_result"
    }
   ],
   "source": [
    "arr[1:]"
   ]
  },
  {
   "cell_type": "code",
   "execution_count": 76,
   "id": "57696dea-a154-41be-8412-b0ffd68bc38d",
   "metadata": {},
   "outputs": [
    {
     "data": {
      "text/plain": [
       "array([[[ 9, 10, 11, 12]],\n",
       "\n",
       "       [[17, 18, 19, 20]]])"
      ]
     },
     "execution_count": 76,
     "metadata": {},
     "output_type": "execute_result"
    }
   ],
   "source": [
    "arr[1:, 0:1]"
   ]
  },
  {
   "cell_type": "code",
   "execution_count": 77,
   "id": "cec8044e-c80c-408c-8590-2b894f69ab20",
   "metadata": {},
   "outputs": [
    {
     "data": {
      "text/plain": [
       "array([[[ 1,  2,  3,  4],\n",
       "        [ 5,  6,  7,  8]],\n",
       "\n",
       "       [[ 9, 10, 11, 12],\n",
       "        [13, 14, 15, 16]],\n",
       "\n",
       "       [[17, 18, 19, 20],\n",
       "        [21, 22, 23, 24]]])"
      ]
     },
     "execution_count": 77,
     "metadata": {},
     "output_type": "execute_result"
    }
   ],
   "source": [
    "arr"
   ]
  },
  {
   "cell_type": "code",
   "execution_count": 78,
   "id": "a0fa339c-67b7-4845-89fb-d2c2ace18400",
   "metadata": {},
   "outputs": [
    {
     "data": {
      "text/plain": [
       "array([16, 24])"
      ]
     },
     "execution_count": 78,
     "metadata": {},
     "output_type": "execute_result"
    }
   ],
   "source": [
    "# Mixing indices and ranges\n",
    "arr[1:, 1, 3]"
   ]
  },
  {
   "cell_type": "code",
   "execution_count": 79,
   "id": "168265a0-9a2a-42b8-8156-e0b903131a1c",
   "metadata": {},
   "outputs": [
    {
     "data": {
      "text/plain": [
       "array([[13, 14, 15],\n",
       "       [21, 22, 23]])"
      ]
     },
     "execution_count": 79,
     "metadata": {},
     "output_type": "execute_result"
    }
   ],
   "source": [
    "arr[1: , 1, :3]"
   ]
  },
  {
   "cell_type": "markdown",
   "id": "dee79d34-768c-415e-a0d1-4ac7b65a8856",
   "metadata": {},
   "source": [
    "Note: range preserve dimension"
   ]
  },
  {
   "cell_type": "markdown",
   "id": "27f8692f-4b60-4645-8d11-e53b3e20e467",
   "metadata": {},
   "source": [
    "### Other way of creating np.array\n",
    "### Python3\n",
    "\n",
    "#### Create a NumPy array using `numpy.arange()`\n",
    "```python\n",
    "import numpy as np\n",
    "\n",
    "print(np.arange(1, 10))\n",
    "```\n",
    "\n",
    "#### Create a NumPy array using `numpy.linspace()`\n",
    "```python\n",
    "print(np.linspace(1, 10, 3))\n",
    "```\n",
    "\n",
    "#### Create a NumPy array using `numpy.zeros()`\n",
    "```python\n",
    "print(np.zeros(5, dtype=int))\n",
    "```\n",
    "\n",
    "#### Create a NumPy array using `numpy.ones()`\n",
    "```python\n",
    "print(np.ones(5, dtype=int))\n",
    "```\n",
    "\n",
    "#### Create a NumPy array using `numpy.random.rand()`\n",
    "```python\n",
    "print(np.random.rand(5))\n",
    "```\n",
    "\n",
    "#### Create a NumPy array using `numpy.random.randint()`\n",
    "```python\n",
    "print(np.random.randint(5, size=10))\n",
    "```\n"
   ]
  },
  {
   "cell_type": "code",
   "execution_count": 80,
   "id": "ead6379b-29ef-4eb2-b9af-06e450e9aec7",
   "metadata": {},
   "outputs": [
    {
     "data": {
      "text/plain": [
       "array([[0., 0., 0.],\n",
       "       [0., 0., 0.]])"
      ]
     },
     "execution_count": 80,
     "metadata": {},
     "output_type": "execute_result"
    }
   ],
   "source": [
    "# All zeors\n",
    "np.zeros((2, 3))"
   ]
  },
  {
   "cell_type": "code",
   "execution_count": 81,
   "id": "0d6f00a3-7afa-411f-882a-742f68fbbd8a",
   "metadata": {},
   "outputs": [
    {
     "data": {
      "text/plain": [
       "array([[1., 1., 1.],\n",
       "       [1., 1., 1.]])"
      ]
     },
     "execution_count": 81,
     "metadata": {},
     "output_type": "execute_result"
    }
   ],
   "source": [
    "# All ones\n",
    "np.ones((2, 3))"
   ]
  },
  {
   "cell_type": "code",
   "execution_count": 82,
   "id": "0776108b-04e2-4246-a330-1d4d1c0d153d",
   "metadata": {},
   "outputs": [
    {
     "data": {
      "text/plain": [
       "array([[1., 0., 0.],\n",
       "       [0., 1., 0.],\n",
       "       [0., 0., 1.]])"
      ]
     },
     "execution_count": 82,
     "metadata": {},
     "output_type": "execute_result"
    }
   ],
   "source": [
    "# Identity Matrix\n",
    "np.eye(3)"
   ]
  },
  {
   "cell_type": "code",
   "execution_count": 83,
   "id": "7b3e7ac4-9598-4e55-b104-899a840aefc9",
   "metadata": {},
   "outputs": [
    {
     "data": {
      "text/plain": [
       "array([0.39541664, 0.90540893, 0.88909371])"
      ]
     },
     "execution_count": 83,
     "metadata": {},
     "output_type": "execute_result"
    }
   ],
   "source": [
    "# Random vector\n",
    "np.random.rand(3)"
   ]
  },
  {
   "cell_type": "code",
   "execution_count": 84,
   "id": "e57e108b-718e-4949-9208-a3312231ede9",
   "metadata": {},
   "outputs": [
    {
     "data": {
      "text/plain": [
       "array([[ 1.20938841,  0.67628984,  0.8305718 ],\n",
       "       [-0.57515529,  0.77443766,  0.04797616]])"
      ]
     },
     "execution_count": 84,
     "metadata": {},
     "output_type": "execute_result"
    }
   ],
   "source": [
    "# Random matrix\n",
    "np.random.randn(2,3)"
   ]
  },
  {
   "cell_type": "code",
   "execution_count": 85,
   "id": "562289c1-c2b8-46e7-952c-c60dbfa5e5f1",
   "metadata": {},
   "outputs": [
    {
     "data": {
      "text/plain": [
       "array([[44, 44, 44],\n",
       "       [44, 44, 44]])"
      ]
     },
     "execution_count": 85,
     "metadata": {},
     "output_type": "execute_result"
    }
   ],
   "source": [
    "# Fixed values\n",
    "np.full([2, 3], 44)"
   ]
  },
  {
   "cell_type": "code",
   "execution_count": 86,
   "id": "5d7ce9b6-b3d9-4f7a-a091-09a073cfd217",
   "metadata": {},
   "outputs": [
    {
     "data": {
      "text/plain": [
       "array([10, 13, 16, 19, 22, 25, 28, 31, 34, 37, 40, 43, 46, 49, 52, 55, 58,\n",
       "       61, 64, 67, 70, 73, 76, 79, 82, 85, 88])"
      ]
     },
     "execution_count": 86,
     "metadata": {},
     "output_type": "execute_result"
    }
   ],
   "source": [
    "# Range with start, end and step\n",
    "np.arange(10, 90, 3)"
   ]
  },
  {
   "cell_type": "code",
   "execution_count": 87,
   "id": "60b2869b-ece9-4e57-a887-32dfa84c121d",
   "metadata": {},
   "outputs": [
    {
     "data": {
      "text/plain": [
       "array([ 3.,  7., 11., 15., 19., 23., 27.])"
      ]
     },
     "execution_count": 87,
     "metadata": {},
     "output_type": "execute_result"
    }
   ],
   "source": [
    "# Equally spaced numbers in range\n",
    "np.linspace(3, 27, 7)"
   ]
  }
 ],
 "metadata": {
  "kernelspec": {
   "display_name": "Python 3 (ipykernel)",
   "language": "python",
   "name": "python3"
  },
  "language_info": {
   "codemirror_mode": {
    "name": "ipython",
    "version": 3
   },
   "file_extension": ".py",
   "mimetype": "text/x-python",
   "name": "python",
   "nbconvert_exporter": "python",
   "pygments_lexer": "ipython3",
   "version": "3.12.7"
  }
 },
 "nbformat": 4,
 "nbformat_minor": 5
}
