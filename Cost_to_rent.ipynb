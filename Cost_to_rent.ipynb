{
 "cells": [
  {
   "cell_type": "markdown",
   "id": "0790126b-0051-4e96-a8a1-f6987290e608",
   "metadata": {},
   "source": [
    "# Exercise - Data Analysis for Vacation Planning\n",
    "\n",
    "You're planning a leisure trip (vacation) and you need to decide which city you want to visit.  \n",
    "You have shortlisted 4 cities and identified the cost of the return flight, daily hotel cost, and weekly car rental cost  \n",
    "(a car has to be rented for full weeks, even if you return the car before a week ends).\n",
    "\n",
    "<img src=\"Images/image.png\" alt=\"Vacation Planning\" width=\"500\" style=\"display:block; margin:auto;\">\n",
    "\n",
    "## Questions:\n",
    "1. If you're planning a 1-week long trip, which city should you visit to spend the least amount of money?  \n",
    "2. How does the answer to the previous question change if you change the duration of the trip to 4 days, 10 days, or 2 weeks?\n"
   ]
  },
  {
   "cell_type": "code",
   "execution_count": 2,
   "id": "07598276-2cb4-4b34-be0e-3e461607e816",
   "metadata": {},
   "outputs": [],
   "source": [
    "import math"
   ]
  },
  {
   "cell_type": "markdown",
   "id": "524e2024-df56-4ed8-9bde-37b280835c44",
   "metadata": {},
   "source": [
    "### Data for each city"
   ]
  },
  {
   "cell_type": "code",
   "execution_count": 3,
   "id": "694054f9-6308-4de7-8979-2d7af02ea1fd",
   "metadata": {},
   "outputs": [],
   "source": [
    "cities = {\n",
    "    \"Paris\": {\"flight\": 200, \"hotel_per_day\": 20, \"weekly_car_rental\": 200},\n",
    "    \"London\": {\"flight\": 250, \"hotel_per_day\": 30, \"weekly_car_rental\": 120},\n",
    "    \"Dubai\": {\"flight\": 370, \"hotel_per_day\": 15, \"weekly_car_rental\": 80},\n",
    "    \"Mumbai\": {\"flight\": 450, \"hotel_per_day\": 10, \"weekly_car_rental\": 70},\n",
    "}"
   ]
  },
  {
   "cell_type": "code",
   "execution_count": 15,
   "id": "530e4f0e-cada-46c7-9841-87effd8ef023",
   "metadata": {},
   "outputs": [
    {
     "name": "stdout",
     "output_type": "stream",
     "text": [
      "For a trip of 4 days, the cheapest city is Paris with a total cost of $480\n",
      "For a trip of 7 days, the cheapest city is Paris with a total cost of $540\n",
      "For a trip of 10 days, the cheapest city is Dubai with a total cost of $680\n",
      "For a trip of 14 days, the cheapest city is Mumbai with a total cost of $730\n"
     ]
    }
   ],
   "source": [
    "def calculate_total_cost(city, days):\n",
    "    flight = city[\"flight\"]\n",
    "    hotel = city[\"hotel_per_day\"] * days\n",
    "    car_rent = city[\"weekly_car_rental\"] * math.ceil(days/7) \n",
    "    return flight + hotel + car_rent\n",
    "\n",
    "def find_cheapest_city(days):\n",
    "    costs = {city: calculate_total_cost(data, days) for city, data in cities.items()}\n",
    "    cheapest_city = min(costs, key = costs.get)\n",
    "    return cheapest_city, costs[cheapest_city]\n",
    "\n",
    "duration = [4, 7, 10, 14]\n",
    "\n",
    "for days in duration:\n",
    "    city, cost = find_cheapest_city(days)\n",
    "    print(f\"For a trip of {days} days, the cheapest city is {city} with a total cost of ${cost}\")"
   ]
  },
  {
   "cell_type": "markdown",
   "id": "75ea3c23-825f-4e53-bc6b-6330b1cf0bf6",
   "metadata": {},
   "source": [
    "### If your total budget for the trip is $1000, which city should you visit to maximize the duration of your trip?"
   ]
  },
  {
   "cell_type": "code",
   "execution_count": 42,
   "id": "eaf1b8d3-d096-47cf-9dfd-a883be0f9ac3",
   "metadata": {},
   "outputs": [
    {
     "name": "stdout",
     "output_type": "stream",
     "text": [
      "For a trip of 27 days, the cheapest city is Mumbai with a total cost of $1000\n"
     ]
    }
   ],
   "source": [
    "budget = 1000\n",
    "n = 10**5\n",
    "best_days = 0\n",
    "best_city = None\n",
    "total_cost = 0\n",
    "for days in range(14, n):\n",
    "    city, cost = find_cheapest_city(days)\n",
    "    if cost > budget:\n",
    "        break\n",
    "    best_days = days\n",
    "    best_city = city\n",
    "    total_cost = cost\n",
    "    # print(f\"For a trip of {best_days} days, the cheapest city is {best_city} with a total cost of ${total_cost}\")\n",
    "\n",
    "print(f\"For a trip of {best_days} days, the cheapest city is {best_city} with a total cost of ${total_cost}\")"
   ]
  },
  {
   "cell_type": "markdown",
   "id": "259060ec-8107-43e5-b6cd-fc5263fff990",
   "metadata": {},
   "source": [
    "### If your total budget for the trip is $1000, which city should you visit to minimize the duration of your trip?"
   ]
  },
  {
   "cell_type": "code",
   "execution_count": 43,
   "id": "e89be152-082e-45ed-ab41-0d8989007cab",
   "metadata": {},
   "outputs": [],
   "source": [
    "def find_expensive_city(days):\n",
    "    cost = {city: calculate_total_cost(data, days) for city, data in cities.items()}\n",
    "    expensive_city = max(cost, key=cost.get)\n",
    "    return expensive_city, cost[expensive_city]"
   ]
  },
  {
   "cell_type": "code",
   "execution_count": 44,
   "id": "bd8701dd-d6ad-4821-b8c9-52e0ea1e8e81",
   "metadata": {},
   "outputs": [
    {
     "name": "stdout",
     "output_type": "stream",
     "text": [
      "For a trip of 4 days, the expensive city is Mumbai with a total cost of $560\n",
      "For a trip of 7 days, the expensive city is Mumbai with a total cost of $590\n",
      "For a trip of 10 days, the expensive city is Paris with a total cost of $800\n",
      "For a trip of 14 days, the expensive city is London with a total cost of $910\n"
     ]
    }
   ],
   "source": [
    "for days in duration:\n",
    "    city, cost = find_expensive_city(days)\n",
    "    print(f\"For a trip of {days} days, the expensive city is {city} with a total cost of ${cost}\")"
   ]
  },
  {
   "cell_type": "code",
   "execution_count": 52,
   "id": "f4d75b74-2020-46ca-bdd3-92fe18635b65",
   "metadata": {},
   "outputs": [
    {
     "name": "stdout",
     "output_type": "stream",
     "text": [
      "For a trip of 14 days, the expensive city is London with a total cost of $910\n"
     ]
    }
   ],
   "source": [
    "for days in range(1, n):\n",
    "    city, cost = find_expensive_city(days)\n",
    "    # print(cost)\n",
    "    if cost > budget:\n",
    "        break\n",
    "    best_days = days\n",
    "    best_city = city\n",
    "    total_cost = cost\n",
    "    # print(f\"For a trip of {best_days} days, the expensive city is {best_city} with a total cost of ${total_cost}\")\n",
    "\n",
    "print(f\"For a trip of {best_days} days, the expensive city is {best_city} with a total cost of ${total_cost}\")"
   ]
  },
  {
   "cell_type": "markdown",
   "id": "14a81e35-f1df-4c1a-9092-adf0eb75ecae",
   "metadata": {},
   "source": [
    "### How does the answer to the previous question change if your budget is 600, 2000 or 1500?"
   ]
  },
  {
   "cell_type": "code",
   "execution_count": 54,
   "id": "5870338a-9d33-4d3b-9b0d-95c633bcef76",
   "metadata": {},
   "outputs": [
    {
     "name": "stdout",
     "output_type": "stream",
     "text": [
      "For a trip of 7 days, the expensive city is Mumbai with a total cost of $590\n",
      "For a trip of 35 days, the expensive city is Paris with a total cost of $1900\n",
      "For a trip of 25 days, the expensive city is Paris with a total cost of $1500\n"
     ]
    }
   ],
   "source": [
    "my_budget = [600, 2000, 1500]\n",
    "\n",
    "for budget in my_budget:\n",
    "    for days in range(1, n):\n",
    "        city, cost = find_expensive_city(days)\n",
    "\n",
    "        if cost>budget:\n",
    "            break\n",
    "        best_days = days\n",
    "        best_city = city\n",
    "        total_cost = cost\n",
    "    print(f\"For a trip of {best_days} days, the expensive city is {best_city} with a total cost of ${total_cost}\")"
   ]
  }
 ],
 "metadata": {
  "kernelspec": {
   "display_name": "Python 3 (ipykernel)",
   "language": "python",
   "name": "python3"
  },
  "language_info": {
   "codemirror_mode": {
    "name": "ipython",
    "version": 3
   },
   "file_extension": ".py",
   "mimetype": "text/x-python",
   "name": "python",
   "nbconvert_exporter": "python",
   "pygments_lexer": "ipython3",
   "version": "3.12.7"
  }
 },
 "nbformat": 4,
 "nbformat_minor": 5
}
